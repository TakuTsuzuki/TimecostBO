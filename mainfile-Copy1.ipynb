{
 "cells": [
  {
   "cell_type": "code",
   "execution_count": 1,
   "metadata": {},
   "outputs": [],
   "source": [
    "%matplotlib inline\n",
    "import numpy as np\n",
    "import matplotlib.pyplot as plt\n",
    "import GPyOpt\n",
    "import GPy\n",
    "from numba import jit\n",
    "\n",
    "from bo import bayesianOptimization\n",
    "from acquisitions import ei, rollout_utility_archive\n",
    "from utils import minimize, gap"
   ]
  },
  {
   "cell_type": "code",
   "execution_count": 2,
   "metadata": {},
   "outputs": [],
   "source": [
    "norm = True\n",
    "objective_true  = GPyOpt.objective_examples.experiments2d.branin(bounds=[(0, 10), (0, 10)],normalized = norm)               # true function\n",
    "objective_noisy = GPyOpt.objective_examples.experiments2d.branin(bounds=[(0, 10), (0, 10)],sd = 0.0001,normalized = norm)         # noisy version\n",
    "bounds = objective_true.bounds     "
   ]
  },
  {
   "cell_type": "code",
   "execution_count": 3,
   "metadata": {},
   "outputs": [
    {
     "data": {
      "image/png": "[encoded data removed]",
      "text/plain": [
       "<Figure size 432x288 with 2 Axes>"
      ]
     },
     "metadata": {},
     "output_type": "display_data"
    }
   ],
   "source": [
    "grid = 15\n",
    "x1 = np.linspace(bounds[0][0], bounds[0][1], grid)\n",
    "x2 = np.linspace(bounds[1][0], bounds[1][1], grid)\n",
    "X1, X2 = np.meshgrid(x1, x2)\n",
    "_X = np.hstack((X1.reshape(grid*grid,1),X2.reshape(grid*grid,1)))\n",
    "_Y = objective_true.f(_X)\n",
    "\n",
    "plt.figure()    \n",
    "plt.contourf(X1, X2, _Y.reshape((grid,grid)),grid)\n",
    "plt.colorbar()\n",
    "plt.xlabel('X1')\n",
    "plt.ylabel('X2')\n",
    "plt.title(\"true\")\n",
    "plt.show()"
   ]
  },
  {
   "cell_type": "code",
   "execution_count": 4,
   "metadata": {},
   "outputs": [
    {
     "data": {
      "text/plain": [
       "array([[0.0114951]])"
      ]
     },
     "execution_count": 4,
     "metadata": {},
     "output_type": "execute_result"
    }
   ],
   "source": [
    "objective_true.f(minimize(objective_true.f,bounds,grid=100))"
   ]
  },
  {
   "cell_type": "code",
   "execution_count": 17,
   "metadata": {
    "scrolled": true
   },
   "outputs": [
    {
     "name": "stdout",
     "output_type": "stream",
     "text": [
      "n_ei 0\n",
      "0\n",
      "1\n",
      "2\n",
      "3\n",
      "4\n",
      "5\n",
      "6\n",
      "7\n",
      "8\n",
      "n_ei 1\n",
      "0\n",
      "1\n",
      "2\n",
      "3\n",
      "4\n",
      "5\n",
      "6\n",
      "7\n",
      "8\n",
      "n_ei 2\n",
      "0\n",
      "1\n",
      "2\n",
      "3\n",
      "4\n",
      "5\n",
      "6\n",
      "7\n",
      "8\n",
      "n_ei 3\n",
      "0\n",
      "1\n",
      "2\n",
      "3\n",
      "4\n",
      "5\n",
      "6\n",
      "7\n",
      "8\n",
      "n_ei 4\n",
      "0\n",
      "1\n",
      "2\n",
      "3\n",
      "4\n",
      "5\n",
      "6\n",
      "7\n",
      "8\n",
      "n_ei 5\n",
      "0\n",
      "1\n",
      "2\n",
      "3\n",
      "4\n",
      "5\n",
      "6\n",
      "7\n",
      "8\n",
      "n_ei 6\n",
      "0\n",
      "1\n",
      "2\n",
      "3\n",
      "4\n",
      "5\n",
      "6\n",
      "7\n",
      "8\n",
      "n_ei 7\n",
      "0\n",
      "1\n",
      "2\n",
      "3\n",
      "4\n",
      "5\n",
      "6\n",
      "7\n",
      "8\n",
      "n_ei 8\n",
      "0\n",
      "1\n",
      "2\n",
      "3\n",
      "4\n",
      "5\n",
      "6\n",
      "7\n",
      "8\n",
      "n_ei 9\n",
      "0\n",
      "1\n",
      "2\n",
      "3\n",
      "4\n",
      "5\n",
      "6\n",
      "7\n",
      "8\n",
      "n_rollout 0\n",
      "0\n",
      "1\n",
      "2\n",
      "3\n",
      "4\n",
      "5\n",
      "6\n",
      "7\n",
      "8\n",
      "n_rollout 1\n",
      "0\n",
      "1\n",
      "2\n",
      "3\n",
      "4\n",
      "5\n",
      "6\n",
      "7\n",
      "8\n",
      "n_rollout 2\n",
      "0\n",
      "1\n",
      "2\n",
      "3\n",
      "4\n",
      "5\n",
      "6\n",
      "7\n",
      "8\n"
     ]
    }
   ],
   "source": [
    "obj_f = objective_true.f\n",
    "kernel = GPy.kern.RBF(2, ARD=True)\n",
    "seed = 2\n",
    "np.random.seed(seed=seed)\n",
    "\n",
    "h=1\n",
    "N_q=11\n",
    "N = 10\n",
    "\n",
    "n = 3\n",
    "queriesei = {}\n",
    "valuesei={}\n",
    "gapsei=[]\n",
    "queriesro = {}\n",
    "valuesro={}\n",
    "gapsro=[]\n",
    "\n",
    "for i in range(10):\n",
    "    print(\"n_ei\",i)\n",
    "    _query, _value = bayesianOptimization(obj_f,\n",
    "                                          ei,\n",
    "                                          bounds,\n",
    "                                          kernel,\n",
    "                                          depth_h = h,\n",
    "                                          N = N,\n",
    "                                          initial_n=1,\n",
    "                                          N_q = N_q\n",
    "                                          )\n",
    "    queriesei[i] = _query\n",
    "    valuesei[i] = _value\n",
    "    gapsei.append(gap(_value))\n",
    "    \n",
    "for i in range(n):\n",
    "    print(\"n_rollout\", i)\n",
    "    _query, _value = bayesianOptimization(obj_f,\n",
    "                                          rollout_utility_archive,\n",
    "                                          bounds,\n",
    "                                          kernel,\n",
    "                                          depth_h = h,\n",
    "                                          N = N,\n",
    "                                          initial_n=1,\n",
    "                                          N_q = N_q,\n",
    "                                          decay_rate=1.\n",
    "                                          )\n",
    "    queriesro[i] = _query\n",
    "    valuesro[i] = _value\n",
    "    gapsro.append(gap(_value))"
   ]
  },
  {
   "cell_type": "code",
   "execution_count": 25,
   "metadata": {},
   "outputs": [
    {
     "data": {
      "text/plain": [
       "[0.0, 0.5955314206875402, 0.24125444607234411]"
      ]
     },
     "execution_count": 25,
     "metadata": {},
     "output_type": "execute_result"
    }
   ],
   "source": [
    "gapsro"
   ]
  },
  {
   "cell_type": "code",
   "execution_count": 26,
   "metadata": {},
   "outputs": [
    {
     "data": {
      "text/plain": [
       "{0: array([[ 5.0524609 ,  0.65286504],\n",
       "        [ 4.44444444,  1.11111111],\n",
       "        [ 6.66666667,  6.66666667],\n",
       "        [10.        ,  2.22222222],\n",
       "        [ 0.        ,  5.55555556],\n",
       "        [10.        ,  3.33333333],\n",
       "        [ 3.33333333,  3.33333333],\n",
       "        [ 8.88888889,  7.77777778],\n",
       "        [ 1.11111111,  5.55555556],\n",
       "        [ 0.        ,  6.66666667]]), 1: array([[ 4.28122328,  0.96530916],\n",
       "        [ 4.44444444,  1.11111111],\n",
       "        [ 4.44444444,  3.33333333],\n",
       "        [ 4.44444444,  2.22222222],\n",
       "        [ 5.55555556,  5.55555556],\n",
       "        [ 2.22222222,  1.11111111],\n",
       "        [ 1.11111111,  2.22222222],\n",
       "        [ 0.        ,  1.11111111],\n",
       "        [ 3.33333333,  1.11111111],\n",
       "        [10.        ,  0.        ]]), 2: array([[1.27159972, 5.96745309],\n",
       "        [2.22222222, 6.66666667],\n",
       "        [4.44444444, 7.77777778],\n",
       "        [0.        , 7.77777778],\n",
       "        [1.11111111, 6.66666667],\n",
       "        [4.44444444, 6.66666667],\n",
       "        [3.33333333, 3.33333333],\n",
       "        [3.33333333, 4.44444444],\n",
       "        [4.44444444, 4.44444444],\n",
       "        [2.22222222, 4.44444444]])}"
      ]
     },
     "execution_count": 26,
     "metadata": {},
     "output_type": "execute_result"
    }
   ],
   "source": [
    "queriesro"
   ]
  },
  {
   "cell_type": "code",
   "execution_count": 27,
   "metadata": {},
   "outputs": [],
   "source": [
    "import pickle\n",
    "with open('rollout_h1Nq11r10.pickle', mode='wb') as f:\n",
    "     pickle.dump(queriesro, f)"
   ]
  },
  {
   "cell_type": "code",
   "execution_count": 28,
   "metadata": {},
   "outputs": [],
   "source": [
    "%matplotlib inline\n",
    "import matplotlib.pyplot as plt\n",
    "import seaborn as sns"
   ]
  },
  {
   "cell_type": "code",
   "execution_count": 29,
   "metadata": {
    "scrolled": true
   },
   "outputs": [
    {
     "data": {
      "text/plain": [
       "[0.0, 0.5955314206875402, 0.24125444607234411]"
      ]
     },
     "execution_count": 29,
     "metadata": {},
     "output_type": "execute_result"
    }
   ],
   "source": [
    "gapsro"
   ]
  },
  {
   "cell_type": "code",
   "execution_count": 30,
   "metadata": {},
   "outputs": [
    {
     "data": {
      "text/plain": [
       "<matplotlib.axes._subplots.AxesSubplot at 0x7fcacc598c88>"
      ]
     },
     "execution_count": 30,
     "metadata": {},
     "output_type": "execute_result"
    },
    {
     "data": {
      "image/png": "[encoded data removed]",
      "text/plain": [
       "<Figure size 720x216 with 3 Axes>"
      ]
     },
     "metadata": {},
     "output_type": "display_data"
    }
   ],
   "source": [
    "fig, (ax1, ax2, ax3) = plt.subplots(1, 3,sharex=True,sharey=True,figsize=(10,3))\n",
    "\n",
    "sns.scatterplot(queriesro[0][:,0],queriesro[0][:,1], ax =ax1)\n",
    "sns.scatterplot(queriesro[1][:,0],queriesro[1][:,1], ax =ax2)\n",
    "sns.scatterplot(queriesro[2][:,0],queriesro[2][:,1], ax =ax3)"
   ]
  },
  {
   "cell_type": "code",
   "execution_count": 31,
   "metadata": {},
   "outputs": [
    {
     "name": "stdout",
     "output_type": "stream",
     "text": [
      "meanEI 0.6827046604933196\n",
      "meanRO 0.2789286222532948\n"
     ]
    }
   ],
   "source": [
    "print(\"meanEI\", np.mean(gapsei))\n",
    "print(\"meanRO\", np.mean(gapsro))"
   ]
  },
  {
   "cell_type": "code",
   "execution_count": null,
   "metadata": {},
   "outputs": [],
   "source": []
  }
 ],
 "metadata": {
  "kernelspec": {
   "display_name": "Python 3",
   "language": "python",
   "name": "python3"
  },
  "language_info": {
   "codemirror_mode": {
    "name": "ipython",
    "version": 3
   },
   "file_extension": ".py",
   "mimetype": "text/x-python",
   "name": "python",
   "nbconvert_exporter": "python",
   "pygments_lexer": "ipython3",
   "version": "3.6.7"
  }
 },
 "nbformat": 4,
 "nbformat_minor": 2
}
