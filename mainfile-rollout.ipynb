{
 "cells": [
  {
   "cell_type": "code",
   "execution_count": 1,
   "metadata": {},
   "outputs": [],
   "source": [
    "%matplotlib inline\n",
    "import numpy as np\n",
    "import matplotlib.pyplot as plt\n",
    "import GPyOpt\n",
    "import GPy\n",
    "from numba import jit\n",
    "\n",
    "from bo import bayesianOptimization\n",
    "from acquisitions import ei, rollout_utility_archive\n",
    "from utils import minimize, gap"
   ]
  },
  {
   "cell_type": "code",
   "execution_count": 2,
   "metadata": {},
   "outputs": [],
   "source": [
    "norm = True\n",
    "objective_true  = GPyOpt.objective_examples.experiments2d.branin(bounds=[(0, 1), (0, 1)],normalized = norm)               # true function\n",
    "objective_noisy = GPyOpt.objective_examples.experiments2d.branin(bounds=[(0, 1), (0, 1)],sd = 0.0001,normalized = norm)         # noisy version\n",
    "bounds = objective_true.bounds     "
   ]
  },
  {
   "cell_type": "code",
   "execution_count": 3,
   "metadata": {},
   "outputs": [],
   "source": [
    "objective_true  = GPyOpt.objective_examples.experiments2d.powers()               # true function\n",
    "objective_noisy = GPyOpt.objective_examples.experiments2d.powers()         # noisy version\n",
    "bounds = objective_true.bounds     "
   ]
  },
  {
   "cell_type": "code",
   "execution_count": 4,
   "metadata": {},
   "outputs": [
    {
     "data": {
      "image/png": "[encoded data removed]",
      "text/plain": [
       "<Figure size 432x288 with 2 Axes>"
      ]
     },
     "metadata": {},
     "output_type": "display_data"
    }
   ],
   "source": [
    "grid = 15\n",
    "x1 = np.linspace(bounds[0][0], bounds[0][1], grid)\n",
    "x2 = np.linspace(bounds[1][0], bounds[1][1], grid)\n",
    "X1, X2 = np.meshgrid(x1, x2)\n",
    "_X = np.hstack((X1.reshape(grid*grid,1),X2.reshape(grid*grid,1)))\n",
    "_Y = objective_true.f(_X)\n",
    "\n",
    "plt.figure()    \n",
    "plt.contourf(X1, X2, _Y.reshape((grid,grid)),grid)\n",
    "plt.colorbar()\n",
    "plt.xlabel('X1')\n",
    "plt.ylabel('X2')\n",
    "plt.title(\"true\")\n",
    "plt.show()"
   ]
  },
  {
   "cell_type": "code",
   "execution_count": 5,
   "metadata": {},
   "outputs": [],
   "source": [
    "fmin = objective_true.f(minimize(objective_true.f,bounds,grid=500))[0][0]"
   ]
  },
  {
   "cell_type": "code",
   "execution_count": 6,
   "metadata": {},
   "outputs": [
    {
     "data": {
      "text/plain": [
       "4.024096320962257e-06"
      ]
     },
     "execution_count": 6,
     "metadata": {},
     "output_type": "execute_result"
    }
   ],
   "source": [
    "fmin"
   ]
  },
  {
   "cell_type": "code",
   "execution_count": 7,
   "metadata": {
    "scrolled": true
   },
   "outputs": [
    {
     "name": "stdout",
     "output_type": "stream",
     "text": [
      "n_ei 0\n",
      "0\n",
      "1\n",
      "2\n",
      "3\n",
      "4\n",
      "n_ei 1\n",
      "0\n",
      "1\n",
      "2\n",
      "3\n",
      "4\n",
      "n_ei 2\n",
      "0\n",
      "1\n",
      "2\n",
      "3\n",
      "4\n",
      "n_rollout 0\n",
      "0\n",
      "1\n",
      "2\n",
      "3\n",
      "4\n",
      "n_rollout 1\n",
      "0\n",
      "1\n",
      "2\n",
      "3\n",
      "4\n",
      "n_rollout 2\n",
      "0\n",
      "1\n",
      "2\n",
      "3\n",
      "4\n"
     ]
    }
   ],
   "source": [
    "obj_f = objective_true.f\n",
    "kernel = GPy.kern.RBF(2, ARD=True)\n",
    "seed = 2\n",
    "np.random.seed(seed=seed)\n",
    "\n",
    "h=1\n",
    "N_q=5\n",
    "N = 5\n",
    "init_n=0\n",
    "initpoints = [np.array([[0.8, 0.8]]), np.array([[-0.98, 0]]), np.array([[0, -0.98]])]\n",
    "\n",
    "n = 3\n",
    "queriesei = {}\n",
    "valuesei={}\n",
    "gapsei=[]\n",
    "queriesro = {}\n",
    "valuesro={}\n",
    "gapsro=[]\n",
    "\n",
    "for i in range(n):\n",
    "    print(\"n_ei\",i)\n",
    "    initpoint = initpoints[i]\n",
    "    _query, _value = bayesianOptimization(obj_f,\n",
    "                                          ei,\n",
    "                                          bounds,\n",
    "                                          depth_h = h,\n",
    "                                          N = N,\n",
    "                                          initial_n=init_n,\n",
    "                                          initpoint = initpoint,\n",
    "                                          N_q = N_q,\n",
    "                                          ARD_Flag = False,\n",
    "                                          length_scale = 0.1\n",
    "                                          )\n",
    "    queriesei[i] = _query\n",
    "    valuesei[i] = _value\n",
    "    gapsei.append(gap(_value, fmin=fmin))\n",
    "\n",
    "for i in range(n):\n",
    "    print(\"n_rollout\", i)\n",
    "    _query, _value = bayesianOptimization(obj_f,\n",
    "                                          rollout_utility_archive,\n",
    "                                          bounds,\n",
    "                                          depth_h = h,\n",
    "                                          N = N,\n",
    "                                          initial_n=init_n,\n",
    "                                          initpoint = initpoint,\n",
    "                                          N_q = N_q,\n",
    "                                          decay_rate=1.,\n",
    "                                          ARD_Flag = False,\n",
    "                                          length_scale = 0.1\n",
    "                                          )\n",
    "    queriesro[i] = _query\n",
    "    valuesro[i] = _value\n",
    "    gapsro.append(gap(_value, fmin=fmin))\n"
   ]
  },
  {
   "cell_type": "code",
   "execution_count": 8,
   "metadata": {
    "scrolled": true
   },
   "outputs": [
    {
     "data": {
      "text/plain": [
       "[0.9880959679414244, 0.9857211011160224, 0.985429693770428]"
      ]
     },
     "execution_count": 8,
     "metadata": {},
     "output_type": "execute_result"
    }
   ],
   "source": [
    "gapsei"
   ]
  },
  {
   "cell_type": "code",
   "execution_count": 9,
   "metadata": {},
   "outputs": [
    {
     "data": {
      "text/plain": [
       "0.9864155876092916"
      ]
     },
     "execution_count": 9,
     "metadata": {},
     "output_type": "execute_result"
    }
   ],
   "source": [
    "np.mean(gapsei)"
   ]
  },
  {
   "cell_type": "code",
   "execution_count": 10,
   "metadata": {},
   "outputs": [
    {
     "data": {
      "text/plain": [
       "[0.8425987923298881, 0.8425987923298881, 0.8425987923298881]"
      ]
     },
     "execution_count": 10,
     "metadata": {},
     "output_type": "execute_result"
    }
   ],
   "source": [
    "gapsro"
   ]
  },
  {
   "cell_type": "code",
   "execution_count": 11,
   "metadata": {},
   "outputs": [
    {
     "data": {
      "text/plain": [
       "{0: array([[ 0.        , -0.98      ],\n",
       "        [-0.11111111, -0.77777778],\n",
       "        [-1.        , -1.        ],\n",
       "        [-1.        , -0.77777778],\n",
       "        [-1.        ,  1.        ],\n",
       "        [-0.33333333,  0.33333333]]), 1: array([[ 0.        , -0.98      ],\n",
       "        [-0.11111111, -0.77777778],\n",
       "        [-1.        , -1.        ],\n",
       "        [-1.        , -0.77777778],\n",
       "        [-1.        ,  1.        ],\n",
       "        [-0.33333333,  0.33333333]]), 2: array([[ 0.        , -0.98      ],\n",
       "        [-0.11111111, -0.77777778],\n",
       "        [-1.        , -1.        ],\n",
       "        [-1.        , -0.77777778],\n",
       "        [-1.        ,  1.        ],\n",
       "        [-0.33333333,  0.33333333]])}"
      ]
     },
     "execution_count": 11,
     "metadata": {},
     "output_type": "execute_result"
    }
   ],
   "source": [
    "queriesro"
   ]
  },
  {
   "cell_type": "code",
   "execution_count": 40,
   "metadata": {},
   "outputs": [],
   "source": [
    "import pickle\n",
    "with open('rollout_pow_h1Nq5r5.pickle', mode='wb') as f:\n",
    "     pickle.dump(queriesro, f)"
   ]
  },
  {
   "cell_type": "code",
   "execution_count": 13,
   "metadata": {},
   "outputs": [],
   "source": [
    "%matplotlib inline\n",
    "import matplotlib.pyplot as plt\n",
    "import seaborn as sns"
   ]
  },
  {
   "cell_type": "code",
   "execution_count": 18,
   "metadata": {},
   "outputs": [
    {
     "data": {
      "text/plain": [
       "[0.9880959679414244, 0.9857211011160224, 0.985429693770428]"
      ]
     },
     "execution_count": 18,
     "metadata": {},
     "output_type": "execute_result"
    }
   ],
   "source": [
    "gapsei"
   ]
  },
  {
   "cell_type": "code",
   "execution_count": 19,
   "metadata": {
    "scrolled": true
   },
   "outputs": [
    {
     "data": {
      "text/plain": [
       "[0.8425987923298881, 0.8425987923298881, 0.8425987923298881]"
      ]
     },
     "execution_count": 19,
     "metadata": {},
     "output_type": "execute_result"
    }
   ],
   "source": [
    "gapsro"
   ]
  },
  {
   "cell_type": "code",
   "execution_count": 15,
   "metadata": {},
   "outputs": [
    {
     "data": {
      "text/plain": [
       "<matplotlib.axes._subplots.AxesSubplot at 0x7ff4bed08eb8>"
      ]
     },
     "execution_count": 15,
     "metadata": {},
     "output_type": "execute_result"
    },
    {
     "data": {
      "image/png": "[encoded data removed]",
      "text/plain": [
       "<Figure size 720x216 with 3 Axes>"
      ]
     },
     "metadata": {},
     "output_type": "display_data"
    }
   ],
   "source": [
    "fig, (ax1, ax2, ax3) = plt.subplots(1, 3,sharex=True,sharey=True,figsize=(10,3))\n",
    "\n",
    "sns.scatterplot(queriesei[0][:,0],queriesei[0][:,1], ax =ax1)\n",
    "sns.scatterplot(queriesei[1][:,0],queriesei[1][:,1], ax =ax2)\n",
    "sns.scatterplot(queriesei[2][:,0],queriesei[2][:,1], ax =ax3)"
   ]
  },
  {
   "cell_type": "code",
   "execution_count": 16,
   "metadata": {},
   "outputs": [
    {
     "data": {
      "text/plain": [
       "<matplotlib.axes._subplots.AxesSubplot at 0x7ff4bebe69e8>"
      ]
     },
     "execution_count": 16,
     "metadata": {},
     "output_type": "execute_result"
    },
    {
     "data": {
      "image/png": "[encoded data removed]",
      "text/plain": [
       "<Figure size 720x216 with 3 Axes>"
      ]
     },
     "metadata": {},
     "output_type": "display_data"
    }
   ],
   "source": [
    "fig, (ax1, ax2, ax3) = plt.subplots(1, 3,sharex=True,sharey=True,figsize=(10,3))\n",
    "\n",
    "sns.scatterplot(queriesro[0][:,0],queriesro[0][:,1], ax =ax1)\n",
    "sns.scatterplot(queriesro[1][:,0],queriesro[1][:,1], ax =ax2)\n",
    "sns.scatterplot(queriesro[2][:,0],queriesro[2][:,1], ax =ax3)"
   ]
  },
  {
   "cell_type": "code",
   "execution_count": 17,
   "metadata": {},
   "outputs": [
    {
     "name": "stdout",
     "output_type": "stream",
     "text": [
      "meanEI 0.9864155876092916\n",
      "meanRO 0.8425987923298881\n"
     ]
    }
   ],
   "source": [
    "print(\"meanEI\", np.mean(gapsei))\n",
    "print(\"meanRO\", np.mean(gapsro))"
   ]
  },
  {
   "cell_type": "code",
   "execution_count": null,
   "metadata": {},
   "outputs": [],
   "source": []
  }
 ],
 "metadata": {
  "kernelspec": {
   "display_name": "Python 3",
   "language": "python",
   "name": "python3"
  },
  "language_info": {
   "codemirror_mode": {
    "name": "ipython",
    "version": 3
   },
   "file_extension": ".py",
   "mimetype": "text/x-python",
   "name": "python",
   "nbconvert_exporter": "python",
   "pygments_lexer": "ipython3",
   "version": "3.6.7"
  }
 },
 "nbformat": 4,
 "nbformat_minor": 2
}
