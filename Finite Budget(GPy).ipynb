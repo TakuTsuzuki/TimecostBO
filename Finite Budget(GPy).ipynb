{
 "cells": [
  {
   "cell_type": "code",
   "execution_count": 1,
   "metadata": {},
   "outputs": [],
   "source": [
    "%matplotlib inline\n",
    "import numpy as np\n",
    "import matplotlib.pyplot as plt\n",
    "import GPyOpt\n",
    "import GPy\n",
    "\n",
    "import scipy as sp\n",
    "from scipy.optimize import basinhopping\n",
    "from numba import jit"
   ]
  },
  {
   "cell_type": "markdown",
   "metadata": {},
   "source": [
    "## def objective"
   ]
  },
  {
   "cell_type": "code",
   "execution_count": 2,
   "metadata": {},
   "outputs": [],
   "source": [
    "objective_true  = GPyOpt.objective_examples.experiments2d.sixhumpcamel()               # true function\n",
    "objective_noisy = GPyOpt.objective_examples.experiments2d.sixhumpcamel()         # noisy version\n",
    "bounds = objective_true.bounds     "
   ]
  },
  {
   "cell_type": "code",
   "execution_count": 3,
   "metadata": {},
   "outputs": [],
   "source": [
    "objective_true  = GPyOpt.objective_examples.experiments2d.mccormick()               # true function\n",
    "objective_noisy = GPyOpt.objective_examples.experiments2d.mccormick()         # noisy version\n",
    "bounds = objective_true.bounds     "
   ]
  },
  {
   "cell_type": "code",
   "execution_count": 4,
   "metadata": {},
   "outputs": [],
   "source": [
    "objective_true  = GPyOpt.objective_examples.experiments2d.powers()               # true function\n",
    "objective_noisy = GPyOpt.objective_examples.experiments2d.powers()         # noisy version\n",
    "bounds = objective_true.bounds     "
   ]
  },
  {
   "cell_type": "code",
   "execution_count": 5,
   "metadata": {},
   "outputs": [],
   "source": [
    "objective_true  = GPyOpt.objective_examples.experiments2d.eggholder()               # true function\n",
    "objective_noisy = GPyOpt.objective_examples.experiments2d.eggholder()         # noisy version\n",
    "bounds = objective_true.bounds     "
   ]
  },
  {
   "cell_type": "code",
   "execution_count": 6,
   "metadata": {},
   "outputs": [],
   "source": [
    "norm = True\n",
    "objective_true  = GPyOpt.objective_examples.experiments2d.branin(bounds=[(0, 1), (0, 1)],normalized = norm)               # true function\n",
    "objective_noisy = GPyOpt.objective_examples.experiments2d.branin(bounds=[(0, 1), (0, 1)],sd = 0.0001,normalized = norm)         # noisy version\n",
    "bounds = objective_true.bounds     "
   ]
  },
  {
   "cell_type": "code",
   "execution_count": 7,
   "metadata": {},
   "outputs": [],
   "source": [
    "x, y , _allx, _ally = sp.optimize.brute(objective_true.f, ranges=bounds,Ns=5, full_output=True,finish=None)"
   ]
  },
  {
   "cell_type": "code",
   "execution_count": 8,
   "metadata": {},
   "outputs": [
    {
     "data": {
      "text/plain": [
       "array([1.  , 0.25])"
      ]
     },
     "execution_count": 8,
     "metadata": {},
     "output_type": "execute_result"
    }
   ],
   "source": [
    "x"
   ]
  },
  {
   "cell_type": "code",
   "execution_count": 9,
   "metadata": {
    "scrolled": true
   },
   "outputs": [
    {
     "data": {
      "text/plain": [
       "array([[1.01613515, 0.64183322, 0.35827204, 0.1654516 , 0.0633719 ],\n",
       "       [0.23831293, 0.09724251, 0.04691283, 0.0873239 , 0.2184757 ],\n",
       "       [0.01945542, 0.01741946, 0.10612425, 0.28556978, 0.55575605],\n",
       "       [0.07114354, 0.11394502, 0.24748724, 0.47177019, 0.78679389],\n",
       "       [0.02058181, 0.01402368, 0.09820628, 0.27312963, 0.53879372]])"
      ]
     },
     "execution_count": 9,
     "metadata": {},
     "output_type": "execute_result"
    }
   ],
   "source": [
    "_ally"
   ]
  },
  {
   "cell_type": "code",
   "execution_count": 10,
   "metadata": {
    "scrolled": true
   },
   "outputs": [
    {
     "data": {
      "text/plain": [
       "(4, 1)"
      ]
     },
     "execution_count": 10,
     "metadata": {},
     "output_type": "execute_result"
    }
   ],
   "source": [
    "_index = np.unravel_index(np.argmin(np.where(_ally<100, _ally, 1e+5)),np.where(_ally<100, _ally, 1e+5).shape)\n",
    "_index"
   ]
  },
  {
   "cell_type": "code",
   "execution_count": 11,
   "metadata": {
    "scrolled": true
   },
   "outputs": [
    {
     "data": {
      "text/plain": [
       "array([1.  , 0.25])"
      ]
     },
     "execution_count": 11,
     "metadata": {},
     "output_type": "execute_result"
    }
   ],
   "source": [
    "_allx[:,_index[0],_index[1]]"
   ]
  },
  {
   "cell_type": "code",
   "execution_count": 12,
   "metadata": {},
   "outputs": [],
   "source": [
    "from utils import brute_grid, filter_threthold2d"
   ]
  },
  {
   "cell_type": "code",
   "execution_count": 13,
   "metadata": {},
   "outputs": [],
   "source": [
    "gridx, gridy=brute_grid(objective_true.f,bounds)"
   ]
  },
  {
   "cell_type": "code",
   "execution_count": 14,
   "metadata": {},
   "outputs": [
    {
     "data": {
      "text/plain": [
       "array([[[0.        , 0.        , 0.        , 0.        , 0.        ,\n",
       "         0.        , 0.        , 0.        , 0.        , 0.        ],\n",
       "        [0.11111111, 0.11111111, 0.11111111, 0.11111111, 0.11111111,\n",
       "         0.11111111, 0.11111111, 0.11111111, 0.11111111, 0.11111111],\n",
       "        [0.22222222, 0.22222222, 0.22222222, 0.22222222, 0.22222222,\n",
       "         0.22222222, 0.22222222, 0.22222222, 0.22222222, 0.22222222],\n",
       "        [0.33333333, 0.33333333, 0.33333333, 0.33333333, 0.33333333,\n",
       "         0.33333333, 0.33333333, 0.33333333, 0.33333333, 0.33333333],\n",
       "        [0.44444444, 0.44444444, 0.44444444, 0.44444444, 0.44444444,\n",
       "         0.44444444, 0.44444444, 0.44444444, 0.44444444, 0.44444444],\n",
       "        [0.55555556, 0.55555556, 0.55555556, 0.55555556, 0.55555556,\n",
       "         0.55555556, 0.55555556, 0.55555556, 0.55555556, 0.55555556],\n",
       "        [0.66666667, 0.66666667, 0.66666667, 0.66666667, 0.66666667,\n",
       "         0.66666667, 0.66666667, 0.66666667, 0.66666667, 0.66666667],\n",
       "        [0.77777778, 0.77777778, 0.77777778, 0.77777778, 0.77777778,\n",
       "         0.77777778, 0.77777778, 0.77777778, 0.77777778, 0.77777778],\n",
       "        [0.88888889, 0.88888889, 0.88888889, 0.88888889, 0.88888889,\n",
       "         0.88888889, 0.88888889, 0.88888889, 0.88888889, 0.88888889],\n",
       "        [1.        , 1.        , 1.        , 1.        , 1.        ,\n",
       "         1.        , 1.        , 1.        , 1.        , 1.        ]],\n",
       "\n",
       "       [[0.        , 0.11111111, 0.22222222, 0.33333333, 0.44444444,\n",
       "         0.55555556, 0.66666667, 0.77777778, 0.88888889, 1.        ],\n",
       "        [0.        , 0.11111111, 0.22222222, 0.33333333, 0.44444444,\n",
       "         0.55555556, 0.66666667, 0.77777778, 0.88888889, 1.        ],\n",
       "        [0.        , 0.11111111, 0.22222222, 0.33333333, 0.44444444,\n",
       "         0.55555556, 0.66666667, 0.77777778, 0.88888889, 1.        ],\n",
       "        [0.        , 0.11111111, 0.22222222, 0.33333333, 0.44444444,\n",
       "         0.55555556, 0.66666667, 0.77777778, 0.88888889, 1.        ],\n",
       "        [0.        , 0.11111111, 0.22222222, 0.33333333, 0.44444444,\n",
       "         0.55555556, 0.66666667, 0.77777778, 0.88888889, 1.        ],\n",
       "        [0.        , 0.11111111, 0.22222222, 0.33333333, 0.44444444,\n",
       "         0.55555556, 0.66666667, 0.77777778, 0.88888889, 1.        ],\n",
       "        [0.        , 0.11111111, 0.22222222, 0.33333333, 0.44444444,\n",
       "         0.55555556, 0.66666667, 0.77777778, 0.88888889, 1.        ],\n",
       "        [0.        , 0.11111111, 0.22222222, 0.33333333, 0.44444444,\n",
       "         0.55555556, 0.66666667, 0.77777778, 0.88888889, 1.        ],\n",
       "        [0.        , 0.11111111, 0.22222222, 0.33333333, 0.44444444,\n",
       "         0.55555556, 0.66666667, 0.77777778, 0.88888889, 1.        ],\n",
       "        [0.        , 0.11111111, 0.22222222, 0.33333333, 0.44444444,\n",
       "         0.55555556, 0.66666667, 0.77777778, 0.88888889, 1.        ]]])"
      ]
     },
     "execution_count": 14,
     "metadata": {},
     "output_type": "execute_result"
    }
   ],
   "source": [
    "gridx"
   ]
  },
  {
   "cell_type": "code",
   "execution_count": 15,
   "metadata": {},
   "outputs": [],
   "source": [
    "def costfunc1(_ndarray):\n",
    "    array = _ndarray[0]\n",
    "    costarray = 9*(1./(1.+np.exp(20*(array-0.6)))) + 1.\n",
    "    return costarray"
   ]
  },
  {
   "cell_type": "code",
   "execution_count": 16,
   "metadata": {},
   "outputs": [
    {
     "data": {
      "text/plain": [
       "array([[9.9999447 , 9.9999447 , 9.9999447 , 9.9999447 , 9.9999447 ,\n",
       "        9.9999447 , 9.9999447 , 9.9999447 , 9.9999447 , 9.9999447 ],\n",
       "       [9.99948975, 9.99948975, 9.99948975, 9.99948975, 9.99948975,\n",
       "        9.99948975, 9.99948975, 9.99948975, 9.99948975, 9.99948975],\n",
       "       [9.9952937 , 9.9952937 , 9.9952937 , 9.9952937 , 9.9952937 ,\n",
       "        9.9952937 , 9.9952937 , 9.9952937 , 9.9952937 , 9.9952937 ],\n",
       "       [9.95675722, 9.95675722, 9.95675722, 9.95675722, 9.95675722,\n",
       "        9.95675722, 9.95675722, 9.95675722, 9.95675722, 9.95675722],\n",
       "       [9.61613873, 9.61613873, 9.61613873, 9.61613873, 9.61613873,\n",
       "        9.61613873, 9.61613873, 9.61613873, 9.61613873, 9.61613873],\n",
       "       [7.37794743, 7.37794743, 7.37794743, 7.37794743, 7.37794743,\n",
       "        7.37794743, 7.37794743, 7.37794743, 7.37794743, 7.37794743],\n",
       "       [2.87747675, 2.87747675, 2.87747675, 2.87747675, 2.87747675,\n",
       "        2.87747675, 2.87747675, 2.87747675, 2.87747675, 2.87747675],\n",
       "       [1.24994957, 1.24994957, 1.24994957, 1.24994957, 1.24994957,\n",
       "        1.24994957, 1.24994957, 1.24994957, 1.24994957, 1.24994957],\n",
       "       [1.0277743 , 1.0277743 , 1.0277743 , 1.0277743 , 1.0277743 ,\n",
       "        1.0277743 , 1.0277743 , 1.0277743 , 1.0277743 , 1.0277743 ],\n",
       "       [1.00301815, 1.00301815, 1.00301815, 1.00301815, 1.00301815,\n",
       "        1.00301815, 1.00301815, 1.00301815, 1.00301815, 1.00301815]])"
      ]
     },
     "execution_count": 16,
     "metadata": {},
     "output_type": "execute_result"
    }
   ],
   "source": [
    "costfunc1(gridx)"
   ]
  },
  {
   "cell_type": "code",
   "execution_count": 41,
   "metadata": {},
   "outputs": [
    {
     "name": "stdout",
     "output_type": "stream",
     "text": [
      "22.526958231162833\n",
      "1000000000000.0\n"
     ]
    }
   ],
   "source": [
    "threthold = 10\n",
    "test = filter_threthold2d(costfunc1,threthold,gridx,gridy)"
   ]
  },
  {
   "cell_type": "code",
   "execution_count": 42,
   "metadata": {},
   "outputs": [
    {
     "data": {
      "text/plain": [
       "array([[0.55555556, 0.11111111]])"
      ]
     },
     "execution_count": 42,
     "metadata": {},
     "output_type": "execute_result"
    }
   ],
   "source": [
    "test"
   ]
  },
  {
   "cell_type": "code",
   "execution_count": 43,
   "metadata": {},
   "outputs": [
    {
     "data": {
      "text/plain": [
       "array([7.37794743, 9.99948975])"
      ]
     },
     "execution_count": 43,
     "metadata": {},
     "output_type": "execute_result"
    }
   ],
   "source": [
    "costfunc1(test)"
   ]
  },
  {
   "cell_type": "code",
   "execution_count": 132,
   "metadata": {
    "scrolled": true
   },
   "outputs": [
    {
     "data": {
      "text/plain": [
       "array([[0.00010306]])"
      ]
     },
     "execution_count": 132,
     "metadata": {},
     "output_type": "execute_result"
    }
   ],
   "source": [
    "objective_true.f(minimize(objective_true.f,bounds,grid=100))"
   ]
  },
  {
   "cell_type": "code",
   "execution_count": 133,
   "metadata": {},
   "outputs": [
    {
     "data": {
      "text/plain": [
       "[(-1, 1), (-1, 1)]"
      ]
     },
     "execution_count": 133,
     "metadata": {},
     "output_type": "execute_result"
    }
   ],
   "source": [
    "bounds"
   ]
  },
  {
   "cell_type": "code",
   "execution_count": 10,
   "metadata": {},
   "outputs": [
    {
     "data": {
      "image/png": "[encoded data removed]",
      "text/plain": [
       "<Figure size 432x288 with 2 Axes>"
      ]
     },
     "metadata": {},
     "output_type": "display_data"
    }
   ],
   "source": [
    "grid = 500\n",
    "x1 = np.linspace(bounds[0][0], bounds[0][1], grid)\n",
    "x2 = np.linspace(bounds[1][0], bounds[1][1], grid)\n",
    "X1, X2 = np.meshgrid(x1, x2)\n",
    "_X = np.hstack((X1.reshape(grid*grid,1),X2.reshape(grid*grid,1)))\n",
    "_Y = objective_true.f(_X)\n",
    "\n",
    "plt.figure()    \n",
    "plt.contourf(X1, X2, _Y.reshape((grid,grid)),grid)\n",
    "plt.colorbar()\n",
    "plt.xlabel('X1')\n",
    "plt.ylabel('X2')\n",
    "plt.title(\"true\")\n",
    "plt.show()"
   ]
  },
  {
   "cell_type": "code",
   "execution_count": 5,
   "metadata": {},
   "outputs": [
    {
     "data": {
      "text/plain": [
       "[(0, 10), (0, 10)]"
      ]
     },
     "execution_count": 5,
     "metadata": {},
     "output_type": "execute_result"
    }
   ],
   "source": [
    "bounds"
   ]
  },
  {
   "cell_type": "code",
   "execution_count": 6,
   "metadata": {},
   "outputs": [],
   "source": [
    "def generate_init(bounds, initial_n):\n",
    "    dim = len(bounds)\n",
    "    init_x = np.random.rand(initial_n, dim)\n",
    "    for i in range(dim):\n",
    "        init_x[:,i]=init_x[:,i]*(bounds[i][1]-bounds[i][0])+bounds[i][0]\n",
    "    return init_x"
   ]
  },
  {
   "cell_type": "code",
   "execution_count": 67,
   "metadata": {},
   "outputs": [
    {
     "data": {
      "text/plain": [
       "array([[0.78630599, 0.8662893 ]])"
      ]
     },
     "execution_count": 67,
     "metadata": {},
     "output_type": "execute_result"
    }
   ],
   "source": [
    "generate_init(bounds, 1)"
   ]
  },
  {
   "cell_type": "code",
   "execution_count": 7,
   "metadata": {},
   "outputs": [],
   "source": [
    "h=2\n",
    "N = 12"
   ]
  },
  {
   "cell_type": "code",
   "execution_count": 8,
   "metadata": {},
   "outputs": [],
   "source": [
    "def bayesianOptimization(func_objective,\n",
    "                         func_acq,\n",
    "                         bounds,\n",
    "                         kernel,\n",
    "                         depth_h,\n",
    "                         N,\n",
    "                         initial_n=1,\n",
    "                         N_q=3):\n",
    "    \"\"\"\n",
    "    depth_h: num of nest\n",
    "    N: num of iter\n",
    "    \"\"\"\n",
    "    if depth_h > N:\n",
    "        print(\"depth_h > N\")\n",
    "        return 0\n",
    "    elif initial_n > N:\n",
    "        print(\"initial_n > N\")\n",
    "        return 0\n",
    "    \n",
    "    _N = N - initial_n\n",
    "    queries = generate_init(bounds, initial_n)\n",
    "    values = func_objective(queries)\n",
    "    for i in range(_N):\n",
    "        print(i)\n",
    "        kernel = GPy.kern.RBF(len(bounds), ARD=True)\n",
    "        #gp_model = fit(queries, values)\n",
    "        _h = min({depth_h,_N-i})\n",
    "        _count_depth = 0\n",
    "        _gp_list = {}\n",
    "        _queries_list = {}\n",
    "        _values_list = {}\n",
    "        _trajectory = []\n",
    "        #_idlist = []\n",
    "        if func_acq == ei:\n",
    "            GP_model = fit(queries, values, kernel)\n",
    "            facq = lambda x : -1*ei(x,bounds,GP_model)\n",
    "        else:\n",
    "            facq = lambda x : -1*func_acq(x, \n",
    "                                      bounds = bounds,\n",
    "                                      func_policy=policy, \n",
    "                                      depth_h = _h, \n",
    "                                      _queries = queries,\n",
    "                                      _values = values,\n",
    "                                      kernel = kernel,\n",
    "                                      N_q = N_q)\n",
    "        X = minimize(facq, bounds)\n",
    "        Y = func_objective(X)\n",
    "        queries = np.concatenate([queries,X])\n",
    "        values = np.concatenate([values,Y])\n",
    "    return queries, values"
   ]
  },
  {
   "cell_type": "code",
   "execution_count": 9,
   "metadata": {},
   "outputs": [],
   "source": [
    "#@jit\n",
    "def policy(GP_model, depth_h,bounds):\n",
    "    # caluc policy function\n",
    "    if depth_h > 1:\n",
    "        func2minimize = lambda x : -1*ei(x,bounds,GP_model)\n",
    "    else:\n",
    "        func2minimize = lambda x : mu(x,bounds,GP_model)\n",
    "    query = minimize(func2minimize, bounds)\n",
    "    return query"
   ]
  },
  {
   "cell_type": "code",
   "execution_count": 10,
   "metadata": {},
   "outputs": [],
   "source": [
    "#Done: 獲得価値観数EI\n",
    "@jit\n",
    "def ei(x,bounds,GP_model,jitter=0.):\n",
    "    if len(x.shape) == 1:\n",
    "        x = np.array([x])\n",
    "    mu, sig = GP_model.predict(x)\n",
    "    fmin = GP_model.predict(GP_model.X)[0].min()\n",
    "    if isinstance(sig, np.ndarray):\n",
    "        sig[sig<1e-10] = 1e-10\n",
    "    elif sig< 1e-10:\n",
    "        sig = 1e-10\n",
    "    u = (fmin - mu - jitter)/sig\n",
    "    phi = np.exp(-0.5 * u**2) / np.sqrt(2*np.pi)\n",
    "    Phi = 0.5 * sp.special.erfc(-u / np.sqrt(2))\n",
    "    next_x = sig * (u * Phi + phi)\n",
    "    return next_x"
   ]
  },
  {
   "cell_type": "code",
   "execution_count": 11,
   "metadata": {},
   "outputs": [],
   "source": [
    "#Done: 獲得価値観数 mean\n",
    "@jit\n",
    "def mu(x, bounds, GP_model):\n",
    "    if len(x.shape) == 1:\n",
    "        x = np.array([x])\n",
    "    mu = GP_model.predict(x)[0]\n",
    "    return mu"
   ]
  },
  {
   "cell_type": "code",
   "execution_count": 12,
   "metadata": {},
   "outputs": [],
   "source": [
    "@jit\n",
    "def rollout_utility(x,\n",
    "                    bounds,\n",
    "                    func_policy, \n",
    "                    depth_h, \n",
    "                    _queries, \n",
    "                    _values, \n",
    "                    kernel,\n",
    "                    N_q,\n",
    "                    decay_rate=0.9):\n",
    "    global _h\n",
    "    global _gp_list\n",
    "    global _queries_list\n",
    "    global _values_list\n",
    "    global _trajectory\n",
    "    if len(x.shape) == 1:\n",
    "        x = np.array([x])\n",
    "    if depth_h == 0:\n",
    "        gp_model = fit(_queries, _values, kernel)\n",
    "        U = ei(x,bounds ,gp_model)\n",
    "    else:    \n",
    "        curr_depth = _h - depth_h #current depth\n",
    "        _queries = np.concatenate([_queries,x])\n",
    "        U = ei(x,bounds, gp_model)\n",
    "        # GaussHermite\n",
    "        points, weights = gauss_hermite(x, gp_model, N_q)\n",
    "        for i in range(N_q):\n",
    "            _trajectory.append(str(i))\n",
    "            #_queries = np.concatenate([_queries,x])\n",
    "            _id = str(curr_depth) + \"\".join(_trajectory)\n",
    "            if _id in _gp_list:\n",
    "                #gp_model = _gp_list[_id]\n",
    "                #_queries = _queries_list[_id]\n",
    "                _values = _values_list[_id]\n",
    "            else:\n",
    "                estimated_value = np.array([[points[0][i]]])\n",
    "                _values = np.concatenate([_values, estimated_value])\n",
    "                _gp_model = fit(_queries, _values, kernel) #memo\n",
    "                x_next = func_policy(_gp_model, depth_h)\n",
    "                \n",
    "                _gp_list[_id] = _gp_model\n",
    "                _values_list[_id] = _values\n",
    "                \n",
    "            U = U + decay_rate*rollout_utility(x_next,\n",
    "                                            bounds,\n",
    "                                            func_policy,\n",
    "                                            depth_h-1,\n",
    "                                            _queries,\n",
    "                                            _values,\n",
    "                                            kernel,\n",
    "                                            N_q,\n",
    "                                            decay_rate )\n",
    "            U = weights[i]*U\n",
    "            _values = _values[:-1,:]\n",
    "            _trajectory.pop(-1)\n",
    "        _queries = _queries[:-1,:]\n",
    "    return U(x)"
   ]
  },
  {
   "cell_type": "code",
   "execution_count": 13,
   "metadata": {},
   "outputs": [],
   "source": [
    "@jit\n",
    "def rollout_utility_archive(x,\n",
    "                    bounds,\n",
    "                    func_policy, \n",
    "                    depth_h, \n",
    "                    _queries, \n",
    "                    _values, \n",
    "                    kernel,\n",
    "                    N_q,\n",
    "                    decay_rate=0.9,\n",
    "                    ARD_Flag = True):\n",
    "    #print(\"depth\",depth_h)\n",
    "    if len(x.shape) == 1:\n",
    "        x = np.array([x])\n",
    "    kernel = GPy.kern.RBF(len(bounds), ARD=ARD_Flag) #todo: fuck!!\n",
    "    gp_model = fit(_queries, _values, kernel) #todo:memo\n",
    "    if depth_h == 0:\n",
    "        U = ei(x,bounds ,gp_model)\n",
    "    else:\n",
    "        U = ei(x,bounds, gp_model)\n",
    "        _queries = np.concatenate([_queries,x])\n",
    "        points, weights = gauss_hermite(x, gp_model, N_q)\n",
    "        for i in range(N_q):\n",
    "            #print(i,\"beforfit_beforker\")\n",
    "            val = np.array([[points[0][i]]])\n",
    "            _values = np.concatenate([_values,val])\n",
    "            kernel = GPy.kern.RBF(len(bounds), ARD=ARD_Flag)\n",
    "            #print(\"X\",_queries)\n",
    "            #print(\"Y\",_values)\n",
    "            _gp_model = fit(_queries, _values, kernel) #todo:memo\n",
    "            #print(i,\"afterfit_afterker\")\n",
    "            x_next = func_policy(_gp_model, depth_h,bounds)\n",
    "            U = U + weights[i]*decay_rate*rollout_utility_archive(x_next,\n",
    "                                    bounds,\n",
    "                                    func_policy,\n",
    "                                    depth_h-1,\n",
    "                                    _queries,\n",
    "                                    _values,\n",
    "                                    kernel,\n",
    "                                    N_q,\n",
    "                                    decay_rate )\n",
    "            _values = _values[:-1,:]\n",
    "        _queries = _queries[:-1,:]\n",
    "    return U"
   ]
  },
  {
   "cell_type": "code",
   "execution_count": 14,
   "metadata": {},
   "outputs": [],
   "source": [
    "#Done\n",
    "@jit\n",
    "def gauss_hermite(x, GP_model, N_q):\n",
    "    points, weights = np.polynomial.hermite.hermgauss(N_q)\n",
    "    mu, sig = GP_model.predict(x)\n",
    "    _points = mu + np.sqrt(2)*sig*points\n",
    "    _weights = np.power(np.pi,-1/2)*weights\n",
    "    return _points, _weights"
   ]
  },
  {
   "cell_type": "code",
   "execution_count": 15,
   "metadata": {},
   "outputs": [],
   "source": [
    "#Done\n",
    "#@jit\n",
    "def fit(X, Y, kernel,noise_var = .1):\n",
    "    model = GPy.models.GPRegression(X,Y,kernel,noise_var=noise_var)\n",
    "    #model['Gaussian_noise.variance'].constrain_bounded(1e-5,5)\n",
    "    #model['rbf.lengthscale'].constrain_bounded(1e-5,1e+10)\n",
    "    #model['rbf.variance'].constrain_bounded(1e-5,1e+10)\n",
    "    model.optimize()\n",
    "    return model"
   ]
  },
  {
   "cell_type": "markdown",
   "metadata": {},
   "source": [
    "def minimize_lbfgsb(func_acq,bounds):\n",
    "    #todo x0 おかしい\n",
    "    res = sp.optimize.fmin_l_bfgs_b(func_acq, x0=generate_init(bounds,1), bounds=bounds,approx_grad=True, maxiter=100)\n",
    "    result_x = np.atleast_2d(res[0])\n",
    "    #result_fx = np.atleast_2d(res[1])\n",
    "    return result_x"
   ]
  },
  {
   "cell_type": "markdown",
   "metadata": {},
   "source": [
    "def set_RBFkernel(bounds, ARD=True):\n",
    "    kernel = GPy.kern.RBF(len(bounds), ARD=ARD)\n",
    "    \n",
    "    return kernel"
   ]
  },
  {
   "cell_type": "code",
   "execution_count": 16,
   "metadata": {},
   "outputs": [],
   "source": [
    "def minimize(func_acq,bounds,grid=10):\n",
    "    result_x = sp.optimize.brute(func_acq, ranges=bounds,Ns=grid,finish=None)\n",
    "    #result_fx = np.atleast_2d(res[1])\n",
    "    return np.array([result_x])"
   ]
  },
  {
   "cell_type": "markdown",
   "metadata": {},
   "source": [
    "def minimize_basinhopping(func_acq,bounds):\n",
    "    #todo 初期位置ランダム化\n",
    "    minimizer_kwargs = dict(method=\"L-BFGS-B\", bounds=bounds,)\n",
    "    x0 = np.array([(bounds[0][1]-bounds[0][0])/2,(bounds[1][1]-bounds[1][0])/2])\n",
    "    res = sp.optimize.basinhopping(func_acq, x0=x0,minimizer_kwargs=minimizer_kwargs,niter=200)\n",
    "    return res"
   ]
  },
  {
   "cell_type": "markdown",
   "metadata": {},
   "source": [
    "## GPy_test"
   ]
  },
  {
   "cell_type": "code",
   "execution_count": 17,
   "metadata": {},
   "outputs": [],
   "source": [
    "X = generate_init(bounds,5) \n",
    "Y = objective_true.f(X)"
   ]
  },
  {
   "cell_type": "code",
   "execution_count": 18,
   "metadata": {},
   "outputs": [],
   "source": [
    "kernel = GPy.kern.RBF(2, ARD=True) "
   ]
  },
  {
   "cell_type": "code",
   "execution_count": 19,
   "metadata": {
    "scrolled": true
   },
   "outputs": [],
   "source": [
    "model = fit(X,Y,kernel)"
   ]
  },
  {
   "cell_type": "code",
   "execution_count": 20,
   "metadata": {},
   "outputs": [
    {
     "data": {
      "text/html": [
       "<style type=\"text/css\">\n",
       ".pd{\n",
       "    font-family: \"Courier New\", Courier, monospace !important;\n",
       "    width: 100%;\n",
       "    padding: 3px;\n",
       "}\n",
       "</style>\n",
       "\n",
       "<p class=pd>\n",
       "<b>Model</b>: GP regression<br>\n",
       "<b>Objective</b>: -1.911280506740475<br>\n",
       "<b>Number of Parameters</b>: 4<br>\n",
       "<b>Number of Optimization Parameters</b>: 4<br>\n",
       "<b>Updates</b>: True<br>\n",
       "</p>\n",
       "<style type=\"text/css\">\n",
       ".tg  {font-family:\"Courier New\", Courier, monospace !important;padding:2px 3px;word-break:normal;border-collapse:collapse;border-spacing:0;border-color:#DCDCDC;margin:0px auto;width:100%;}\n",
       ".tg td{font-family:\"Courier New\", Courier, monospace !important;font-weight:bold;color:#444;background-color:#F7FDFA;border-style:solid;border-width:1px;overflow:hidden;word-break:normal;border-color:#DCDCDC;}\n",
       ".tg th{font-family:\"Courier New\", Courier, monospace !important;font-weight:normal;color:#fff;background-color:#26ADE4;border-style:solid;border-width:1px;overflow:hidden;word-break:normal;border-color:#DCDCDC;}\n",
       ".tg .tg-left{font-family:\"Courier New\", Courier, monospace !important;font-weight:normal;text-align:left;}\n",
       ".tg .tg-center{font-family:\"Courier New\", Courier, monospace !important;font-weight:normal;text-align:center;}\n",
       ".tg .tg-right{font-family:\"Courier New\", Courier, monospace !important;font-weight:normal;text-align:right;}\n",
       "</style>\n",
       "<table class=\"tg\"><tr><th><b>  GP_regression.         </b></th><th><b>                 value</b></th><th><b>constraints</b></th><th><b>priors</b></th></tr>\n",
       "<tr><td class=tg-left>  rbf.variance           </td><td class=tg-right>   0.10695270738529811</td><td class=tg-center>    +ve    </td><td class=tg-center>      </td></tr>\n",
       "<tr><td class=tg-left>  rbf.lengthscale        </td><td class=tg-right>                  (2,)</td><td class=tg-center>    +ve    </td><td class=tg-center>      </td></tr>\n",
       "<tr><td class=tg-left>  Gaussian_noise.variance</td><td class=tg-right>1.1878886195199322e-11</td><td class=tg-center>    +ve    </td><td class=tg-center>      </td></tr>\n",
       "</table>"
      ],
      "text/plain": [
       "<GPy.models.gp_regression.GPRegression at 0x7f45bcc49cc0>"
      ]
     },
     "execution_count": 20,
     "metadata": {},
     "output_type": "execute_result"
    }
   ],
   "source": [
    "model"
   ]
  },
  {
   "cell_type": "code",
   "execution_count": 21,
   "metadata": {
    "scrolled": true
   },
   "outputs": [
    {
     "data": {
      "text/plain": [
       "{'dataplot': [<matplotlib.collections.PathCollection at 0x7f45bcc38f98>],\n",
       " 'gpmean': [<matplotlib.contour.QuadContourSet at 0x7f45bcc38dd8>]}"
      ]
     },
     "execution_count": 21,
     "metadata": {},
     "output_type": "execute_result"
    },
    {
     "data": {
      "image/png": "[encoded data removed]",
      "text/plain": [
       "<Figure size 432x288 with 1 Axes>"
      ]
     },
     "metadata": {},
     "output_type": "display_data"
    }
   ],
   "source": [
    "model.plot()"
   ]
  },
  {
   "cell_type": "code",
   "execution_count": 22,
   "metadata": {},
   "outputs": [
    {
     "data": {
      "text/plain": [
       "(array([[0.21468066, 0.21788683, 0.22109301]]),\n",
       " array([0.16666667, 0.66666667, 0.16666667]))"
      ]
     },
     "execution_count": 22,
     "metadata": {},
     "output_type": "execute_result"
    }
   ],
   "source": [
    "gauss_hermite(np.array([[0.5,0.5]]),model,3 )"
   ]
  },
  {
   "cell_type": "markdown",
   "metadata": {},
   "source": [
    "## EI"
   ]
  },
  {
   "cell_type": "code",
   "execution_count": 23,
   "metadata": {},
   "outputs": [],
   "source": [
    "grid = 50\n",
    "x1 = np.linspace(bounds[0][0], bounds[0][1], grid)\n",
    "x2 = np.linspace(bounds[1][0], bounds[1][1], grid)\n",
    "X1, X2 = np.meshgrid(x1, x2)\n",
    "_X = np.hstack((X1.reshape(grid*grid,1),X2.reshape(grid*grid,1)))\n",
    "_Y = ei(_X, bounds, model)"
   ]
  },
  {
   "cell_type": "code",
   "execution_count": 24,
   "metadata": {},
   "outputs": [
    {
     "data": {
      "text/plain": [
       "[(0, 10), (0, 10)]"
      ]
     },
     "execution_count": 24,
     "metadata": {},
     "output_type": "execute_result"
    }
   ],
   "source": [
    "bounds"
   ]
  },
  {
   "cell_type": "code",
   "execution_count": 25,
   "metadata": {
    "scrolled": true
   },
   "outputs": [
    {
     "data": {
      "text/plain": [
       "array([[0.        , 5.55555556]])"
      ]
     },
     "execution_count": 25,
     "metadata": {},
     "output_type": "execute_result"
    }
   ],
   "source": [
    "acq = lambda x: -1*ei(x, bounds, model)\n",
    "x = minimize(acq,bounds)\n",
    "x"
   ]
  },
  {
   "cell_type": "code",
   "execution_count": 26,
   "metadata": {
    "scrolled": true
   },
   "outputs": [
    {
     "data": {
      "image/png": "[encoded data removed]",
      "text/plain": [
       "<Figure size 432x288 with 2 Axes>"
      ]
     },
     "metadata": {},
     "output_type": "display_data"
    }
   ],
   "source": [
    "plt.figure()    \n",
    "plt.contourf(X1, X2, _Y.reshape((grid,grid)),grid)\n",
    "plt.colorbar()\n",
    "plt.xlabel('X1')\n",
    "plt.ylabel('X2')\n",
    "plt.title(\"expected_improvement\")\n",
    "plt.show()"
   ]
  },
  {
   "cell_type": "code",
   "execution_count": 55,
   "metadata": {
    "scrolled": true
   },
   "outputs": [
    {
     "name": "stdout",
     "output_type": "stream",
     "text": [
      "0\n",
      "1\n",
      "2\n",
      "3\n",
      "4\n",
      "5\n",
      "6\n",
      "7\n",
      "8\n"
     ]
    }
   ],
   "source": [
    "seed=4\n",
    "obj_f = objective_noisy.f\n",
    "kernel = GPy.kern.RBF(2, ARD=True)\n",
    "np.random.seed(seed=seed)\n",
    "N_q=1\n",
    "N = 10\n",
    "queryei, valueei = bayesianOptimization(obj_f, \n",
    "                                        ei,\n",
    "                                        bounds,\n",
    "                                        kernel,\n",
    "                                        depth_h = h,\n",
    "                                        N = N,\n",
    "                                        initial_n=1,\n",
    "                                        N_q = N_q\n",
    "                                       )"
   ]
  },
  {
   "cell_type": "code",
   "execution_count": 56,
   "metadata": {},
   "outputs": [
    {
     "data": {
      "text/plain": [
       "array([[ 9.67029839,  5.47232249],\n",
       "       [ 0.        ,  0.        ],\n",
       "       [ 0.        ,  8.88888889],\n",
       "       [ 6.66666667,  0.        ],\n",
       "       [ 5.55555556, 10.        ],\n",
       "       [ 3.33333333,  4.44444444],\n",
       "       [10.        , 10.        ],\n",
       "       [10.        ,  0.        ],\n",
       "       [ 7.77777778,  2.22222222],\n",
       "       [ 0.        ,  6.66666667]])"
      ]
     },
     "execution_count": 56,
     "metadata": {},
     "output_type": "execute_result"
    }
   ],
   "source": [
    "queryei"
   ]
  },
  {
   "cell_type": "code",
   "execution_count": 57,
   "metadata": {
    "scrolled": false
   },
   "outputs": [
    {
     "data": {
      "text/plain": [
       "0.03194071835609225"
      ]
     },
     "execution_count": 57,
     "metadata": {},
     "output_type": "execute_result"
    }
   ],
   "source": [
    "min(valueei)[0]"
   ]
  },
  {
   "cell_type": "code",
   "execution_count": 58,
   "metadata": {},
   "outputs": [
    {
     "data": {
      "text/plain": [
       "0.8523490001571504"
      ]
     },
     "execution_count": 58,
     "metadata": {},
     "output_type": "execute_result"
    }
   ],
   "source": [
    "from utils import gap\n",
    "gap(valueei)"
   ]
  },
  {
   "cell_type": "code",
   "execution_count": 59,
   "metadata": {
    "scrolled": true
   },
   "outputs": [
    {
     "data": {
      "text/plain": [
       "<matplotlib.collections.PathCollection at 0x7f45b3294160>"
      ]
     },
     "execution_count": 59,
     "metadata": {},
     "output_type": "execute_result"
    },
    {
     "data": {
      "image/png": "[encoded data removed]",
      "text/plain": [
       "<Figure size 432x288 with 1 Axes>"
      ]
     },
     "metadata": {},
     "output_type": "display_data"
    }
   ],
   "source": [
    "plt.scatter(queryei[:,0],queryei[:,1])"
   ]
  },
  {
   "cell_type": "markdown",
   "metadata": {},
   "source": [
    "## Rollout "
   ]
  },
  {
   "cell_type": "code",
   "execution_count": 60,
   "metadata": {
    "scrolled": true
   },
   "outputs": [
    {
     "name": "stdout",
     "output_type": "stream",
     "text": [
      "0\n",
      "1\n",
      "2\n",
      "3\n",
      "4\n",
      "5\n",
      "6\n",
      "7\n",
      "8\n",
      "9\n",
      "10\n",
      "11\n",
      "12\n",
      "13\n",
      "14\n",
      "15\n",
      "16\n",
      "17\n",
      "18\n",
      "19\n",
      "20\n",
      "21\n",
      "22\n",
      "23\n",
      "24\n",
      "25\n",
      "26\n",
      "27\n",
      "28\n",
      "29\n",
      "30\n",
      "31\n",
      "32\n",
      "33\n",
      "34\n",
      "35\n",
      "36\n",
      "37\n",
      "38\n",
      "39\n",
      "40\n",
      "41\n",
      "42\n",
      "43\n",
      "44\n",
      "45\n",
      "46\n",
      "47\n",
      "48\n",
      "49\n",
      "50\n",
      "51\n",
      "52\n",
      "53\n",
      "54\n",
      "55\n",
      "56\n",
      "57\n",
      "58\n",
      "59\n",
      "60\n",
      "61\n",
      "62\n",
      "63\n",
      "64\n",
      "65\n",
      "66\n",
      "67\n",
      "68\n",
      "69\n",
      "70\n",
      "71\n",
      "72\n",
      "73\n",
      "74\n",
      "75\n",
      "76\n",
      "77\n",
      "78\n",
      "79\n",
      "80\n",
      "81\n",
      "82\n",
      "83\n",
      "84\n",
      "85\n",
      "86\n",
      "87\n",
      "88\n",
      "89\n",
      "90\n",
      "91\n",
      "92\n",
      "93\n",
      "94\n",
      "95\n",
      "96\n",
      "97\n",
      "98\n",
      "99\n"
     ]
    }
   ],
   "source": [
    "grid = 10\n",
    "x1 = np.linspace(bounds[0][0], bounds[0][1], grid)\n",
    "x2 = np.linspace(bounds[1][0], bounds[1][1], grid)\n",
    "X1, X2 = np.meshgrid(x1, x2)\n",
    "_X = np.hstack((X1.reshape(grid*grid,1),X2.reshape(grid*grid,1)))\n",
    "\n",
    "h=2\n",
    "N_q=1\n",
    "_Y = np.array([])\n",
    "for i in range(_X.shape[0]):\n",
    "    print(i)\n",
    "    x = _X[i:i+1]\n",
    "    y = rollout_utility_archive(x = x,\n",
    "                        bounds = bounds,\n",
    "                        func_policy=policy, \n",
    "                        depth_h = h, \n",
    "                        _queries = X, \n",
    "                        _values = Y, \n",
    "                        kernel=kernel,\n",
    "                        N_q=N_q)\n",
    "    _Y = np.concatenate([_Y,y[0]])\n",
    "_Y = _Y.T"
   ]
  },
  {
   "cell_type": "code",
   "execution_count": 61,
   "metadata": {
    "scrolled": true
   },
   "outputs": [
    {
     "data": {
      "image/png": "[encoded data removed]",
      "text/plain": [
       "<Figure size 432x288 with 2 Axes>"
      ]
     },
     "metadata": {},
     "output_type": "display_data"
    }
   ],
   "source": [
    "plt.figure()    \n",
    "plt.contourf(X1, X2, _Y.reshape((grid,grid)),grid)\n",
    "plt.colorbar()\n",
    "plt.xlabel('X1')\n",
    "plt.ylabel('X2')\n",
    "plt.title(\"rollout_test5\")\n",
    "plt.show()"
   ]
  },
  {
   "cell_type": "code",
   "execution_count": 66,
   "metadata": {},
   "outputs": [
    {
     "name": "stdout",
     "output_type": "stream",
     "text": [
      "0\n",
      "1\n",
      "2\n",
      "3\n",
      "4\n",
      "5\n",
      "6\n",
      "7\n",
      "8\n"
     ]
    }
   ],
   "source": [
    "obj_f = objective_true.f\n",
    "kernel = GPy.kern.RBF(2, ARD=True)\n",
    "seed = 1\n",
    "\n",
    "np.random.seed(seed=seed)\n",
    "\n",
    "h=2\n",
    "N_q=5\n",
    "N = 10\n",
    "\n",
    "queryro, valuero = bayesianOptimization(obj_f, \n",
    "                                        rollout_utility_archive,\n",
    "                                        bounds,\n",
    "                                        kernel,\n",
    "                                        depth_h = h,\n",
    "                                        N = N,\n",
    "                                        N_q = N_q\n",
    "                                       )"
   ]
  },
  {
   "cell_type": "code",
   "execution_count": 67,
   "metadata": {
    "scrolled": false
   },
   "outputs": [
    {
     "data": {
      "text/plain": [
       "array([[ 4.17022005,  7.20324493],\n",
       "       [ 6.66666667,  5.55555556],\n",
       "       [ 0.        ,  8.88888889],\n",
       "       [ 4.44444444,  6.66666667],\n",
       "       [ 0.        ,  0.        ],\n",
       "       [ 2.22222222,  7.77777778],\n",
       "       [ 4.44444444,  6.66666667],\n",
       "       [ 6.66666667,  7.77777778],\n",
       "       [ 7.77777778,  7.77777778],\n",
       "       [10.        ,  7.77777778]])"
      ]
     },
     "execution_count": 67,
     "metadata": {},
     "output_type": "execute_result"
    }
   ],
   "source": [
    "queryro"
   ]
  },
  {
   "cell_type": "code",
   "execution_count": 68,
   "metadata": {
    "scrolled": false
   },
   "outputs": [
    {
     "data": {
      "text/plain": [
       "array([-0.76667321, -0.73421306, -0.89098825, -0.79370775,  0.0276088 ,\n",
       "       -0.92570136, -0.79370775, -0.52538911, -0.49136123, -0.69035951])"
      ]
     },
     "execution_count": 68,
     "metadata": {},
     "output_type": "execute_result"
    }
   ],
   "source": [
    "valuero"
   ]
  },
  {
   "cell_type": "code",
   "execution_count": 69,
   "metadata": {},
   "outputs": [
    {
     "data": {
      "text/plain": [
       "<matplotlib.collections.PathCollection at 0x7fe4df419160>"
      ]
     },
     "execution_count": 69,
     "metadata": {},
     "output_type": "execute_result"
    },
    {
     "data": {
      "image/png": "[encoded data removed]",
      "text/plain": [
       "<Figure size 432x288 with 1 Axes>"
      ]
     },
     "metadata": {},
     "output_type": "display_data"
    }
   ],
   "source": [
    "plt.scatter(queryro[:,0],queryro[:,1])"
   ]
  },
  {
   "cell_type": "code",
   "execution_count": 44,
   "metadata": {},
   "outputs": [],
   "source": [
    "a = np.array([10,10,10])\n",
    "b = np.array([1,2,3])"
   ]
  },
  {
   "cell_type": "code",
   "execution_count": 45,
   "metadata": {},
   "outputs": [
    {
     "data": {
      "text/plain": [
       "array([10.        ,  5.        ,  3.33333333])"
      ]
     },
     "execution_count": 45,
     "metadata": {},
     "output_type": "execute_result"
    }
   ],
   "source": [
    "a/b"
   ]
  },
  {
   "cell_type": "code",
   "execution_count": null,
   "metadata": {},
   "outputs": [],
   "source": []
  }
 ],
 "metadata": {
  "kernelspec": {
   "display_name": "Python 3",
   "language": "python",
   "name": "python3"
  },
  "language_info": {
   "codemirror_mode": {
    "name": "ipython",
    "version": 3
   },
   "file_extension": ".py",
   "mimetype": "text/x-python",
   "name": "python",
   "nbconvert_exporter": "python",
   "pygments_lexer": "ipython3",
   "version": "3.6.7"
  }
 },
 "nbformat": 4,
 "nbformat_minor": 2
}
