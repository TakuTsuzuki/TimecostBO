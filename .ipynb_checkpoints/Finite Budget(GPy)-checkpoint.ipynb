{
 "cells": [
  {
   "cell_type": "code",
   "execution_count": 1,
   "metadata": {},
   "outputs": [],
   "source": [
    "%matplotlib inline\n",
    "import numpy as np\n",
    "import matplotlib.pyplot as plt\n",
    "import GPyOpt\n",
    "import GPy\n",
    "\n",
    "import scipy as sp\n",
    "from scipy.optimize import basinhopping\n",
    "from numba import jit\n",
    "\n",
    "import matplotlib.pyplot as plt"
   ]
  },
  {
   "cell_type": "markdown",
   "metadata": {},
   "source": [
    "## def objective"
   ]
  },
  {
   "cell_type": "code",
   "execution_count": 2,
   "metadata": {},
   "outputs": [
    {
     "data": {
      "image/png": "[encoded data removed]",
      "text/plain": [
       "<Figure size 432x288 with 2 Axes>"
      ]
     },
     "metadata": {},
     "output_type": "display_data"
    }
   ],
   "source": [
    "objective_true  = GPyOpt.objective_examples.experiments2d.branin()                 # true function\n",
    "objective_noisy = GPyOpt.objective_examples.experiments2d.branin(sd = 0.1)         # noisy version\n",
    "bounds = objective_noisy.bounds     \n",
    "objective_true.plot()"
   ]
  },
  {
   "cell_type": "code",
   "execution_count": 3,
   "metadata": {},
   "outputs": [
    {
     "data": {
      "text/plain": [
       "<GPyOpt.objective_examples.experiments2d.branin at 0x7efc53867ef0>"
      ]
     },
     "execution_count": 3,
     "metadata": {},
     "output_type": "execute_result"
    }
   ],
   "source": [
    "objective_true"
   ]
  },
  {
   "cell_type": "code",
   "execution_count": 4,
   "metadata": {
    "scrolled": true
   },
   "outputs": [
    {
     "data": {
      "text/plain": [
       "[(-5, 10), (1, 15)]"
      ]
     },
     "execution_count": 4,
     "metadata": {},
     "output_type": "execute_result"
    }
   ],
   "source": [
    "bounds"
   ]
  },
  {
   "cell_type": "code",
   "execution_count": 5,
   "metadata": {},
   "outputs": [],
   "source": [
    "def generate_init(bounds, initial_n):\n",
    "    dim = len(bounds)\n",
    "    init_x = np.random.rand(initial_n, dim)\n",
    "    for i in range(dim):\n",
    "        init_x[:,i]=init_x[:,i]*(bounds[i][1]-bounds[i][0])+bounds[i][0]\n",
    "    return init_x"
   ]
  },
  {
   "cell_type": "code",
   "execution_count": 6,
   "metadata": {},
   "outputs": [],
   "source": [
    "h=2\n",
    "N = 12"
   ]
  },
  {
   "cell_type": "code",
   "execution_count": 7,
   "metadata": {},
   "outputs": [],
   "source": [
    "def bayesianOptimization(func_objective,\n",
    "                         func_acq,\n",
    "                         bounds,\n",
    "                         kernel,\n",
    "                         depth_h,\n",
    "                         N,\n",
    "                         initial_n=1,\n",
    "                         N_q=3):\n",
    "    \"\"\"\n",
    "    depth_h: num of nest\n",
    "    N: num of iter\n",
    "    \"\"\"\n",
    "    if depth_h > N:\n",
    "        print(\"depth_h > N\")\n",
    "        return 0\n",
    "    elif initial_n > N:\n",
    "        print(\"initial_n > N\")\n",
    "        return 0\n",
    "    \n",
    "    _N = N - initial_n\n",
    "    queries = generate_init(bounds, initial_n)\n",
    "    values = func_objective(queries)\n",
    "    for i in range(_N):\n",
    "        print(i)\n",
    "        kernel = GPy.kern.RBF(len(bounds), ARD=True)\n",
    "        #gp_model = fit(queries, values)\n",
    "        _h = min({depth_h,_N-i})\n",
    "        _count_depth = 0\n",
    "        _gp_list = {}\n",
    "        _queries_list = {}\n",
    "        _values_list = {}\n",
    "        _trajectory = []\n",
    "        #_idlist = []\n",
    "        if func_acq == ei:\n",
    "            GP_model = fit(queries, values, kernel)\n",
    "            facq = lambda x : -1*ei(x,bounds,GP_model)\n",
    "        else:\n",
    "            facq = lambda x : -1*func_acq(x, \n",
    "                                      bounds = bounds,\n",
    "                                      func_policy=policy, \n",
    "                                      depth_h = _h, \n",
    "                                      _queries = queries,\n",
    "                                      _values = values,\n",
    "                                      kernel = kernel,\n",
    "                                      N_q = N_q)\n",
    "        X = minimize(facq, bounds)\n",
    "        Y = func_objective(X)\n",
    "        queries = np.concatenate([queries,X])\n",
    "        values = np.concatenate([values,Y])\n",
    "    return queries, values"
   ]
  },
  {
   "cell_type": "code",
   "execution_count": 8,
   "metadata": {},
   "outputs": [],
   "source": [
    "#@jit\n",
    "def policy(GP_model, depth_h,bounds):\n",
    "    # caluc policy function\n",
    "    if depth_h > 1:\n",
    "        func2minimize = lambda x : -1*ei(x,bounds,GP_model)\n",
    "    else:\n",
    "        func2minimize = lambda x : mu(x,bounds,GP_model)\n",
    "    query = minimize(func2minimize, bounds)\n",
    "    return query"
   ]
  },
  {
   "cell_type": "code",
   "execution_count": 9,
   "metadata": {},
   "outputs": [],
   "source": [
    "#Done: 獲得価値観数EI\n",
    "@jit\n",
    "def ei(x,bounds,GP_model,jitter=0.):\n",
    "    if len(x.shape) == 1:\n",
    "        x = np.array([x])\n",
    "    mu, sig = GP_model.predict(x)\n",
    "    fmin = GP_model.predict(GP_model.X)[0].min()\n",
    "    if isinstance(sig, np.ndarray):\n",
    "        sig[sig<1e-10] = 1e-10\n",
    "    elif sig< 1e-10:\n",
    "        sig = 1e-10\n",
    "    u = (fmin - mu - jitter)/sig\n",
    "    phi = np.exp(-0.5 * u**2) / np.sqrt(2*np.pi)\n",
    "    Phi = 0.5 * sp.special.erfc(-u / np.sqrt(2))\n",
    "    next_x = sig * (u * Phi + phi)\n",
    "    return next_x"
   ]
  },
  {
   "cell_type": "code",
   "execution_count": 10,
   "metadata": {},
   "outputs": [],
   "source": [
    "#Done: 獲得価値観数 mean\n",
    "@jit\n",
    "def mu(x, bounds, GP_model):\n",
    "    if len(x.shape) == 1:\n",
    "        x = np.array([x])\n",
    "    mu = GP_model.predict(x)[0]\n",
    "    return mu"
   ]
  },
  {
   "cell_type": "code",
   "execution_count": 11,
   "metadata": {},
   "outputs": [],
   "source": [
    "#@jit\n",
    "def rollout_utility(x,\n",
    "                    bounds,\n",
    "                    func_policy, \n",
    "                    depth_h, \n",
    "                    _queries, \n",
    "                    _values, \n",
    "                    kernel,\n",
    "                    N_q,\n",
    "                    decay_rate=0.9):\n",
    "    global _h\n",
    "    global _gp_list\n",
    "    global _queries_list\n",
    "    global _values_list\n",
    "    global _trajectory\n",
    "    if len(x.shape) == 1:\n",
    "        x = np.array([x])\n",
    "    if depth_h == 0:\n",
    "        gp_model = fit(_queries, _values, kernel)\n",
    "        U = ei(x,bounds ,gp_model)\n",
    "    else:    \n",
    "        curr_depth = _h - depth_h #current depth\n",
    "        _queries = np.concatenate([_queries,x])\n",
    "        U = ei(x,bounds, gp_model)\n",
    "        # GaussHermite\n",
    "        points, weights = gauss_hermite(x, gp_model, N_q)\n",
    "        for i in range(N_q):\n",
    "            _trajectory.append(str(i))\n",
    "            #_queries = np.concatenate([_queries,x])\n",
    "            _id = str(curr_depth) + \"\".join(_trajectory)\n",
    "            if _id in _gp_list:\n",
    "                #gp_model = _gp_list[_id]\n",
    "                #_queries = _queries_list[_id]\n",
    "                _values = _values_list[_id]\n",
    "            else:\n",
    "                estimated_value = np.array([[points[0][i]]])\n",
    "                _values = np.concatenate([_values, estimated_value])\n",
    "                _gp_model = fit(_queries, _values, kernel) #memo\n",
    "                x_next = func_policy(_gp_model, depth_h)\n",
    "                \n",
    "                _gp_list[_id] = _gp_model\n",
    "                _values_list[_id] = _values\n",
    "                \n",
    "            U = U + decay_rate*rollout_utility(x_next,\n",
    "                                            bounds,\n",
    "                                            func_policy,\n",
    "                                            depth_h-1,\n",
    "                                            _queries,\n",
    "                                            _values,\n",
    "                                            kernel,\n",
    "                                            N_q,\n",
    "                                            decay_rate )\n",
    "            U = weights[i]*U\n",
    "            _values = _values[:-1,:]\n",
    "            _trajectory.pop(-1)\n",
    "        _queries = _queries[:-1,:]\n",
    "    return U(x)"
   ]
  },
  {
   "cell_type": "code",
   "execution_count": 12,
   "metadata": {},
   "outputs": [],
   "source": [
    "@jit\n",
    "def rollout_utility_archive(x,\n",
    "                    bounds,\n",
    "                    func_policy, \n",
    "                    depth_h, \n",
    "                    _queries, \n",
    "                    _values, \n",
    "                    kernel,\n",
    "                    N_q,\n",
    "                    decay_rate=0.9):\n",
    "    #print(depth_h)\n",
    "    if len(x.shape) == 1:\n",
    "        x = np.array([x])\n",
    "    kernel = GPy.kern.Matern52(len(bounds), ARD=True) #todo: fuck!!\n",
    "    gp_model = fit(_queries, _values, kernel) #todo:memo\n",
    "    if depth_h == 0:\n",
    "        U = ei(x,bounds ,gp_model)\n",
    "    else:\n",
    "        U = ei(x,bounds, gp_model)\n",
    "        _queries = np.concatenate([_queries,x])\n",
    "        points, weights = gauss_hermite(x, gp_model, N_q)\n",
    "        for i in range(N_q):\n",
    "            #print(i,\"beforfit_beforker\")\n",
    "            val = np.array([[points[0][i]]])\n",
    "            _values = np.concatenate([_values,val])\n",
    "            kernel = GPy.kern.RBF(len(bounds), ARD=True)\n",
    "            #print(\"X\",_queries)\n",
    "            #print(\"Y\",_values)\n",
    "            _gp_model = fit(_queries, _values, kernel) #todo:memo\n",
    "            #print(i,\"afterfit_afterker\")\n",
    "            x_next = func_policy(_gp_model, depth_h,bounds)\n",
    "            U = U + weights[i]*decay_rate*rollout_utility_archive(x_next,\n",
    "                                    bounds,\n",
    "                                    func_policy,\n",
    "                                    depth_h-1,\n",
    "                                    _queries,\n",
    "                                    _values,\n",
    "                                    kernel,\n",
    "                                    N_q,\n",
    "                                    decay_rate )\n",
    "            _values = _values[:-1,:]\n",
    "        _queries = _queries[:-1,:]\n",
    "    return U"
   ]
  },
  {
   "cell_type": "code",
   "execution_count": 13,
   "metadata": {},
   "outputs": [],
   "source": [
    "#Done\n",
    "@jit\n",
    "def gauss_hermite(x, GP_model, N_q):\n",
    "    points, weights = np.polynomial.hermite.hermgauss(N_q)\n",
    "    mu, sig = GP_model.predict(x)\n",
    "    _points = mu + np.sqrt(2)*sig*points\n",
    "    _weights = np.power(np.pi,-1/2)*weights\n",
    "    return _points, _weights"
   ]
  },
  {
   "cell_type": "code",
   "execution_count": 14,
   "metadata": {},
   "outputs": [],
   "source": [
    "#Done\n",
    "@jit\n",
    "def fit(X, Y, kernel):\n",
    "    model = GPy.models.GPRegression(X,Y,kernel)\n",
    "    model.optimize()\n",
    "    return model"
   ]
  },
  {
   "cell_type": "markdown",
   "metadata": {},
   "source": [
    "def minimize_lbfgsb(func_acq,bounds):\n",
    "    #todo x0 おかしい\n",
    "    res = sp.optimize.fmin_l_bfgs_b(func_acq, x0=generate_init(bounds,1), bounds=bounds,approx_grad=True, maxiter=100)\n",
    "    result_x = np.atleast_2d(res[0])\n",
    "    #result_fx = np.atleast_2d(res[1])\n",
    "    return result_x"
   ]
  },
  {
   "cell_type": "code",
   "execution_count": 15,
   "metadata": {},
   "outputs": [],
   "source": [
    "def minimize_basinhopping(func_acq,bounds):\n",
    "    #todo 初期位置ランダム化\n",
    "    minimizer_kwargs = dict(method=\"L-BFGS-B\", bounds=bounds,)\n",
    "    x0 = np.array([(bounds[0][1]-bounds[0][0])/2,(bounds[1][1]-bounds[1][0])/2])\n",
    "    res = sp.optimize.basinhopping(func_acq, x0=x0,minimizer_kwargs=minimizer_kwargs,niter=200)\n",
    "    return res"
   ]
  },
  {
   "cell_type": "code",
   "execution_count": 16,
   "metadata": {},
   "outputs": [],
   "source": [
    "def minimize(func_acq,bounds):\n",
    "    result_x = sp.optimize.brute(func_acq, ranges=bounds,Ns=30,finish=None)\n",
    "    #result_fx = np.atleast_2d(res[1])\n",
    "    return np.array([result_x])"
   ]
  },
  {
   "cell_type": "markdown",
   "metadata": {},
   "source": [
    "## GPy_test"
   ]
  },
  {
   "cell_type": "code",
   "execution_count": 39,
   "metadata": {},
   "outputs": [],
   "source": [
    "X = generate_init(bounds, 2) \n",
    "Y = objective_noisy.f(X)"
   ]
  },
  {
   "cell_type": "code",
   "execution_count": 40,
   "metadata": {},
   "outputs": [],
   "source": [
    "kernel = GPy.kern.RBF(2, ARD=True)"
   ]
  },
  {
   "cell_type": "code",
   "execution_count": 41,
   "metadata": {
    "scrolled": true
   },
   "outputs": [],
   "source": [
    "model = fit(X,Y,kernel)"
   ]
  },
  {
   "cell_type": "code",
   "execution_count": 42,
   "metadata": {
    "scrolled": true
   },
   "outputs": [
    {
     "data": {
      "text/plain": [
       "<matplotlib.axes._subplots.AxesSubplot at 0x7f324d0a40b8>"
      ]
     },
     "execution_count": 42,
     "metadata": {},
     "output_type": "execute_result"
    },
    {
     "data": {
      "image/png": "[encoded data removed]",
      "text/plain": [
       "<Figure size 432x288 with 1 Axes>"
      ]
     },
     "metadata": {},
     "output_type": "display_data"
    }
   ],
   "source": [
    "model.plot()"
   ]
  },
  {
   "cell_type": "code",
   "execution_count": 43,
   "metadata": {},
   "outputs": [
    {
     "data": {
      "text/plain": [
       "(array([[-517.91239151, -241.33260933,    8.40285106,  258.13831146,\n",
       "          534.71809364]]),\n",
       " array([0.01125741, 0.22207592, 0.53333333, 0.22207592, 0.01125741]))"
      ]
     },
     "execution_count": 43,
     "metadata": {},
     "output_type": "execute_result"
    }
   ],
   "source": [
    "gauss_hermite(np.array([[2.5,2]]),model,5 )"
   ]
  },
  {
   "cell_type": "code",
   "execution_count": 44,
   "metadata": {
    "scrolled": true
   },
   "outputs": [
    {
     "data": {
      "text/plain": [
       "(array([[8.40285106]]), array([[184.22147941]]))"
      ]
     },
     "execution_count": 44,
     "metadata": {},
     "output_type": "execute_result"
    }
   ],
   "source": [
    "model.predict(np.array([[2.5,2]]))"
   ]
  },
  {
   "cell_type": "markdown",
   "metadata": {},
   "source": [
    "## EI"
   ]
  },
  {
   "cell_type": "code",
   "execution_count": 45,
   "metadata": {},
   "outputs": [],
   "source": [
    "grid = 10\n",
    "x1 = np.linspace(bounds[0][0], bounds[0][1], grid)\n",
    "x2 = np.linspace(bounds[1][0], bounds[1][1], grid)\n",
    "X1, X2 = np.meshgrid(x1, x2)\n",
    "_X = np.hstack((X1.reshape(grid*grid,1),X2.reshape(grid*grid,1)))\n",
    "_Y = ei(_X, bounds, model)"
   ]
  },
  {
   "cell_type": "code",
   "execution_count": 46,
   "metadata": {},
   "outputs": [
    {
     "data": {
      "text/plain": [
       "[(-5, 10), (1, 15)]"
      ]
     },
     "execution_count": 46,
     "metadata": {},
     "output_type": "execute_result"
    }
   ],
   "source": [
    "bounds"
   ]
  },
  {
   "cell_type": "code",
   "execution_count": 47,
   "metadata": {},
   "outputs": [
    {
     "data": {
      "text/plain": [
       "array([[-5., 15.]])"
      ]
     },
     "execution_count": 47,
     "metadata": {},
     "output_type": "execute_result"
    }
   ],
   "source": [
    "acq = lambda x: -1*ei(x, bounds, model)\n",
    "x = minimize(acq,bounds)\n",
    "x"
   ]
  },
  {
   "cell_type": "code",
   "execution_count": 48,
   "metadata": {
    "scrolled": true
   },
   "outputs": [
    {
     "data": {
      "image/png": "[encoded data removed]",
      "text/plain": [
       "<Figure size 432x288 with 2 Axes>"
      ]
     },
     "metadata": {},
     "output_type": "display_data"
    }
   ],
   "source": [
    "plt.figure()    \n",
    "plt.contourf(X1, X2, _Y.reshape((grid,grid)),grid)\n",
    "plt.colorbar()\n",
    "plt.xlabel('X1')\n",
    "plt.ylabel('X2')\n",
    "plt.title(\"expected_improvement\")\n",
    "plt.show()"
   ]
  },
  {
   "cell_type": "code",
   "execution_count": 57,
   "metadata": {
    "scrolled": true
   },
   "outputs": [
    {
     "name": "stdout",
     "output_type": "stream",
     "text": [
      "0\n",
      "1\n",
      "2\n",
      "3\n",
      "4\n",
      "5\n",
      "6\n",
      "7\n",
      "8\n"
     ]
    }
   ],
   "source": [
    "seed=3\n",
    "obj_f = objective_noisy.f\n",
    "kernel = GPy.kern.RBF(2, ARD=True)\n",
    "np.random.seed(seed=seed)\n",
    "N_q=1\n",
    "N = 10\n",
    "queryei, valueei = bayesianOptimization(obj_f, \n",
    "                                        ei,\n",
    "                                        bounds,\n",
    "                                        kernel,\n",
    "                                        depth_h = h,\n",
    "                                        N = N,\n",
    "                                        N_q = N_q\n",
    "                                       )"
   ]
  },
  {
   "cell_type": "code",
   "execution_count": 58,
   "metadata": {},
   "outputs": [
    {
     "data": {
      "text/plain": [
       "array([[ 3.26196854, 10.91406952],\n",
       "       [-5.        ,  1.        ],\n",
       "       [-5.        ,  9.20689655],\n",
       "       [ 3.27586207,  1.        ],\n",
       "       [10.        ,  4.86206897],\n",
       "       [10.        , 15.        ],\n",
       "       [-1.89655172, 15.        ],\n",
       "       [10.        ,  1.        ],\n",
       "       [-5.        , 15.        ],\n",
       "       [10.        ,  1.        ]])"
      ]
     },
     "execution_count": 58,
     "metadata": {},
     "output_type": "execute_result"
    }
   ],
   "source": [
    "queryei"
   ]
  },
  {
   "cell_type": "code",
   "execution_count": 59,
   "metadata": {
    "scrolled": true
   },
   "outputs": [
    {
     "data": {
      "text/plain": [
       "array([ 77.70867239, 275.56802697,  77.38381242,   2.82386862,\n",
       "         6.39116528, 146.80949081,  38.35866398,   6.90725402,\n",
       "        18.37691304,   7.04343806])"
      ]
     },
     "execution_count": 59,
     "metadata": {},
     "output_type": "execute_result"
    }
   ],
   "source": [
    "valueei[:,0]"
   ]
  },
  {
   "cell_type": "code",
   "execution_count": 60,
   "metadata": {},
   "outputs": [
    {
     "data": {
      "text/plain": [
       "<matplotlib.collections.PathCollection at 0x7f325d6f2198>"
      ]
     },
     "execution_count": 60,
     "metadata": {},
     "output_type": "execute_result"
    },
    {
     "data": {
      "image/png": "[encoded data removed]",
      "text/plain": [
       "<Figure size 432x288 with 1 Axes>"
      ]
     },
     "metadata": {},
     "output_type": "display_data"
    }
   ],
   "source": [
    "plt.scatter(queryei[:,0],queryei[:,1])"
   ]
  },
  {
   "cell_type": "markdown",
   "metadata": {},
   "source": [
    "## Rollout "
   ]
  },
  {
   "cell_type": "code",
   "execution_count": 63,
   "metadata": {
    "scrolled": true
   },
   "outputs": [
    {
     "name": "stdout",
     "output_type": "stream",
     "text": [
      "0\n",
      "1\n",
      "2\n",
      "3\n",
      "4\n",
      "5\n",
      "6\n",
      "7\n",
      "8\n",
      "9\n",
      "10\n",
      "11\n",
      "12\n",
      "13\n",
      "14\n",
      "15\n",
      "16\n",
      "17\n",
      "18\n",
      "19\n",
      "20\n",
      "21\n",
      "22\n",
      "23\n",
      "24\n",
      "25\n",
      "26\n",
      "27\n",
      "28\n",
      "29\n",
      "30\n",
      "31\n",
      "32\n",
      "33\n",
      "34\n",
      "35\n",
      "36\n",
      "37\n",
      "38\n",
      "39\n",
      "40\n",
      "41\n",
      "42\n",
      "43\n",
      "44\n",
      "45\n",
      "46\n",
      "47\n",
      "48\n",
      "49\n",
      "50\n",
      "51\n",
      "52\n",
      "53\n",
      "54\n",
      "55\n",
      "56\n",
      "57\n",
      "58\n",
      "59\n",
      "60\n",
      "61\n",
      "62\n",
      "63\n",
      "64\n",
      "65\n",
      "66\n",
      "67\n",
      "68\n",
      "69\n",
      "70\n",
      "71\n",
      "72\n",
      "73\n",
      "74\n",
      "75\n",
      "76\n",
      "77\n",
      "78\n",
      "79\n",
      "80\n",
      "81\n",
      "82\n",
      "83\n",
      "84\n",
      "85\n",
      "86\n",
      "87\n",
      "88\n",
      "89\n",
      "90\n",
      "91\n",
      "92\n",
      "93\n",
      "94\n",
      "95\n",
      "96\n",
      "97\n",
      "98\n",
      "99\n"
     ]
    }
   ],
   "source": [
    "x1 = np.linspace(bounds[0][0], bounds[0][1], grid)\n",
    "x2 = np.linspace(bounds[1][0], bounds[1][1], grid)\n",
    "X1, X2 = np.meshgrid(x1, x2)\n",
    "_X = np.hstack((X1.reshape(grid*grid,1),X2.reshape(grid*grid,1)))\n",
    "\n",
    "h=2\n",
    "N_q=1\n",
    "_Y = np.array([])\n",
    "for i in range(_X.shape[0]):\n",
    "    print(i)\n",
    "    x = _X[i:i+1]\n",
    "    y = rollout_utility_archive(x = x,\n",
    "                        bounds = bounds,\n",
    "                        func_policy=policy, \n",
    "                        depth_h = h, \n",
    "                        _queries = X, \n",
    "                        _values = Y, \n",
    "                        kernel=kernel,\n",
    "                        N_q=N_q)\n",
    "    _Y = np.concatenate([_Y,y[0]])\n",
    "_Y = _Y.T"
   ]
  },
  {
   "cell_type": "code",
   "execution_count": 64,
   "metadata": {},
   "outputs": [
    {
     "data": {
      "image/png": "[encoded data removed]",
      "text/plain": [
       "<Figure size 432x288 with 2 Axes>"
      ]
     },
     "metadata": {},
     "output_type": "display_data"
    }
   ],
   "source": [
    "plt.figure()    \n",
    "plt.contourf(X1, X2, _Y.reshape((grid,grid)),grid)\n",
    "plt.colorbar()\n",
    "plt.xlabel('X1')\n",
    "plt.ylabel('X2')\n",
    "plt.title(\"rollout_test5\")\n",
    "plt.show()"
   ]
  },
  {
   "cell_type": "code",
   "execution_count": null,
   "metadata": {},
   "outputs": [
    {
     "name": "stdout",
     "output_type": "stream",
     "text": [
      "0\n"
     ]
    }
   ],
   "source": [
    "obj_f = objective_true.f\n",
    "kernel = GPy.kern.RBF(2, ARD=True)\n",
    "seed = 5\n",
    "\n",
    "np.random.seed(seed=seed)\n",
    "\n",
    "h=1\n",
    "N_q=1\n",
    "N = 10\n",
    "\n",
    "queryro, valuero = bayesianOptimization(obj_f, \n",
    "                                        rollout_utility_archive,\n",
    "                                        bounds,\n",
    "                                        kernel,\n",
    "                                        depth_h = h,\n",
    "                                        N = N,\n",
    "                                        N_q = N_q\n",
    "                                       )"
   ]
  },
  {
   "cell_type": "code",
   "execution_count": 535,
   "metadata": {
    "scrolled": false
   },
   "outputs": [
    {
     "data": {
      "text/plain": [
       "array([[-2.28711344,  8.2008344 ],\n",
       "       [ 0.51113393,  7.52818701],\n",
       "       [-0.7744979 ,  3.70198062],\n",
       "       [ 0.48791096,  1.        ],\n",
       "       [ 0.56001377,  1.        ],\n",
       "       [ 0.76784172,  1.00000455],\n",
       "       [ 0.78768842,  1.        ],\n",
       "       [ 0.50566867,  1.0000017 ],\n",
       "       [ 0.44093177,  1.00000305],\n",
       "       [ 0.65111146,  1.        ],\n",
       "       [ 0.53410749,  1.00002271],\n",
       "       [ 0.05223905,  1.00000139],\n",
       "       [ 0.38305678,  1.        ],\n",
       "       [ 0.85237074,  1.        ],\n",
       "       [ 0.25434635,  1.00000005]])"
      ]
     },
     "execution_count": 535,
     "metadata": {},
     "output_type": "execute_result"
    }
   ],
   "source": [
    "queryro"
   ]
  },
  {
   "cell_type": "code",
   "execution_count": 536,
   "metadata": {
    "scrolled": false
   },
   "outputs": [
    {
     "data": {
      "text/plain": [
       "array([ 9.10278669, 24.69624954, 30.75292592, 37.59049269, 36.25988611,\n",
       "       32.71146105, 32.38728773, 37.39204724, 38.33448141, 34.85077746,\n",
       "       36.58628868, 44.82084457, 39.31245817, 31.23121489, 41.53108025])"
      ]
     },
     "execution_count": 536,
     "metadata": {},
     "output_type": "execute_result"
    }
   ],
   "source": [
    "valuero[:,0]"
   ]
  },
  {
   "cell_type": "code",
   "execution_count": 621,
   "metadata": {},
   "outputs": [
    {
     "data": {
      "text/plain": [
       "array([[-1.67010243, 13.19025229],\n",
       "       [-1.89921267, 13.86055271],\n",
       "       [-5.        ,  1.        ],\n",
       "       [-5.        ,  1.        ],\n",
       "       [-5.        ,  1.        ],\n",
       "       [-5.        ,  1.        ],\n",
       "       [-5.        ,  1.        ],\n",
       "       [-5.        ,  1.        ],\n",
       "       [-5.        ,  1.        ],\n",
       "       [-5.        ,  1.        ],\n",
       "       [-5.        ,  1.        ],\n",
       "       [-5.        ,  1.        ],\n",
       "       [-5.        ,  1.        ],\n",
       "       [-5.        ,  1.        ],\n",
       "       [-5.        ,  1.        ],\n",
       "       [-5.        ,  1.        ],\n",
       "       [-5.        ,  1.        ],\n",
       "       [-5.        ,  1.        ],\n",
       "       [-5.        ,  1.        ],\n",
       "       [-5.        ,  1.        ],\n",
       "       [-5.        ,  1.        ],\n",
       "       [-5.        ,  1.        ],\n",
       "       [-5.        ,  1.        ],\n",
       "       [-5.        ,  1.        ],\n",
       "       [-5.        ,  1.        ],\n",
       "       [-5.        ,  1.        ],\n",
       "       [-5.        ,  1.        ],\n",
       "       [-5.        ,  1.        ],\n",
       "       [-5.        ,  1.        ],\n",
       "       [-5.        ,  1.        ]])"
      ]
     },
     "execution_count": 621,
     "metadata": {},
     "output_type": "execute_result"
    }
   ],
   "source": [
    "queryei"
   ]
  },
  {
   "cell_type": "code",
   "execution_count": 622,
   "metadata": {},
   "outputs": [
    {
     "data": {
      "text/plain": [
       "array([ 27.6956348 ,  26.99112447, 275.76533723, 275.91262436,\n",
       "       275.663453  , 275.69521258, 275.77313657, 275.72138925,\n",
       "       275.63509978, 275.73388859, 275.71849335, 275.81472341,\n",
       "       275.58789739, 275.68435834, 275.86951535, 275.94010935,\n",
       "       275.60325829, 275.818861  , 275.65631546, 275.66869093,\n",
       "       275.66718833, 275.71212545, 275.85402023, 275.82561837,\n",
       "       275.76029067, 275.71804516, 275.75470513, 275.7437832 ,\n",
       "       275.83368158, 275.69121908])"
      ]
     },
     "execution_count": 622,
     "metadata": {},
     "output_type": "execute_result"
    }
   ],
   "source": [
    "valueei[:,0]"
   ]
  },
  {
   "cell_type": "code",
   "execution_count": 539,
   "metadata": {},
   "outputs": [
    {
     "data": {
      "text/plain": [
       "<matplotlib.collections.PathCollection at 0x7faf1a0c9e10>"
      ]
     },
     "execution_count": 539,
     "metadata": {},
     "output_type": "execute_result"
    },
    {
     "data": {
      "image/png": "[encoded data removed]",
      "text/plain": [
       "<Figure size 432x288 with 1 Axes>"
      ]
     },
     "metadata": {},
     "output_type": "display_data"
    }
   ],
   "source": [
    "plt.scatter(queryro[:,0],queryro[:,1])"
   ]
  },
  {
   "cell_type": "code",
   "execution_count": 623,
   "metadata": {},
   "outputs": [
    {
     "data": {
      "text/plain": [
       "<matplotlib.collections.PathCollection at 0x7faf1a5ea550>"
      ]
     },
     "execution_count": 623,
     "metadata": {},
     "output_type": "execute_result"
    },
    {
     "data": {
      "image/png": "[encoded data removed]",
      "text/plain": [
       "<Figure size 432x288 with 1 Axes>"
      ]
     },
     "metadata": {},
     "output_type": "display_data"
    }
   ],
   "source": [
    "plt.scatter(queryei[:,0],queryei[:,1])"
   ]
  },
  {
   "cell_type": "code",
   "execution_count": null,
   "metadata": {},
   "outputs": [],
   "source": []
  }
 ],
 "metadata": {
  "kernelspec": {
   "display_name": "Python 3",
   "language": "python",
   "name": "python3"
  },
  "language_info": {
   "codemirror_mode": {
    "name": "ipython",
    "version": 3
   },
   "file_extension": ".py",
   "mimetype": "text/x-python",
   "name": "python",
   "nbconvert_exporter": "python",
   "pygments_lexer": "ipython3",
   "version": "3.6.7"
  }
 },
 "nbformat": 4,
 "nbformat_minor": 2
}
