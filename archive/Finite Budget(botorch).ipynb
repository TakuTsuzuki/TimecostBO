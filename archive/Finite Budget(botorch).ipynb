{
 "cells": [
  {
   "cell_type": "code",
   "execution_count": 5,
   "metadata": {},
   "outputs": [],
   "source": [
    "%matplotlib inline\n",
    "import numpy as np\n",
    "import matplotlib.pyplot as plt\n",
    "import GPyOpt\n",
    "import gpflow\n",
    "\n",
    "import scipy as sp\n",
    "from scipy.optimize import basinhopping\n",
    "from numba import jit\n",
    "\n",
    "import matplotlib.pyplot as plt"
   ]
  },
  {
   "cell_type": "markdown",
   "metadata": {},
   "source": [
    "## def objective"
   ]
  },
  {
   "cell_type": "code",
   "execution_count": 6,
   "metadata": {},
   "outputs": [
    {
     "data": {
      "image/png": "[encoded data removed]",
      "text/plain": [
       "<Figure size 432x288 with 2 Axes>"
      ]
     },
     "metadata": {},
     "output_type": "display_data"
    }
   ],
   "source": [
    "objective_true  = GPyOpt.objective_examples.experiments2d.branin()                 # true function\n",
    "objective_noisy = GPyOpt.objective_examples.experiments2d.branin(sd = 0.1)         # noisy version\n",
    "bounds = objective_noisy.bounds     \n",
    "objective_true.plot()"
   ]
  },
  {
   "cell_type": "code",
   "execution_count": 7,
   "metadata": {},
   "outputs": [
    {
     "data": {
      "text/plain": [
       "<GPyOpt.objective_examples.experiments2d.branin at 0x7f784eeb12b0>"
      ]
     },
     "execution_count": 7,
     "metadata": {},
     "output_type": "execute_result"
    }
   ],
   "source": [
    "objective_true"
   ]
  },
  {
   "cell_type": "code",
   "execution_count": 8,
   "metadata": {
    "scrolled": true
   },
   "outputs": [
    {
     "data": {
      "text/plain": [
       "[(-5, 10), (1, 15)]"
      ]
     },
     "execution_count": 8,
     "metadata": {},
     "output_type": "execute_result"
    }
   ],
   "source": [
    "bounds"
   ]
  },
  {
   "cell_type": "code",
   "execution_count": 9,
   "metadata": {},
   "outputs": [],
   "source": [
    "def generate_init(bounds, initial_n):\n",
    "    dim = len(bounds)\n",
    "    init_x = np.random.rand(initial_n, dim)\n",
    "    for i in range(dim):\n",
    "        init_x[:,i]=init_x[:,i]*(bounds[i][1]-bounds[i][0])+bounds[i][0]\n",
    "    return init_x"
   ]
  },
  {
   "cell_type": "code",
   "execution_count": 10,
   "metadata": {},
   "outputs": [],
   "source": [
    "h=2\n",
    "N = 12"
   ]
  },
  {
   "cell_type": "code",
   "execution_count": 43,
   "metadata": {},
   "outputs": [],
   "source": [
    "def bayesianOptimization(func_objective,\n",
    "                         func_acq,\n",
    "                         bounds,\n",
    "                         kernel,\n",
    "                         depth_h,\n",
    "                         N,\n",
    "                         initial_n=1,\n",
    "                         N_q=3):\n",
    "    \"\"\"\n",
    "    depth_h: num of nest\n",
    "    N: num of iter\n",
    "    \"\"\"\n",
    "    if depth_h > N:\n",
    "        print(\"depth_h > N\")\n",
    "        return 0\n",
    "    elif initial_n > N:\n",
    "        print(\"initial_n > N\")\n",
    "        return 0\n",
    "    \n",
    "    _N = N - initial_n\n",
    "    queries = generate_init(bounds, initial_n)\n",
    "    values = func_objective(queries)\n",
    "    for i in range(_N):\n",
    "        print(i)\n",
    "        #kernel = gpflow.kernels.RBF(len(bounds), ARD=True)\n",
    "        #gp_model = fit(queries, values)\n",
    "        _h = min({depth_h,_N-i})\n",
    "        _count_depth = 0\n",
    "        _gp_list = {}\n",
    "        _queries_list = {}\n",
    "        _values_list = {}\n",
    "        _trajectory = []\n",
    "        #_idlist = []\n",
    "        if func_acq == ei:\n",
    "            GP_model = fit(queries, values, kernel)\n",
    "            facq = lambda x : -1*ei(x,bounds,GP_model)\n",
    "        else:\n",
    "            facq = lambda x : -1*func_acq(x, \n",
    "                                      bounds = bounds,\n",
    "                                      func_policy=policy, \n",
    "                                      depth_h = _h, \n",
    "                                      _queries = queries,\n",
    "                                      _values = values,\n",
    "                                      kernel = kernel,\n",
    "                                      N_q = N_q)\n",
    "        X = minimize(facq, bounds)\n",
    "        Y = func_objective(X)\n",
    "        queries = np.concatenate([queries,X])\n",
    "        values = np.concatenate([values,Y])\n",
    "    return queries, values"
   ]
  },
  {
   "cell_type": "code",
   "execution_count": 44,
   "metadata": {},
   "outputs": [],
   "source": [
    "#@jit\n",
    "def policy(GP_model, depth_h,bounds):\n",
    "    # caluc policy function\n",
    "    if depth_h > 1:\n",
    "        func2minimize = lambda x : -1*ei(x,bounds,GP_model)\n",
    "    else:\n",
    "        func2minimize = lambda x : mu(x,bounds,GP_model)\n",
    "    query = minimize(func2minimize, bounds)\n",
    "    return query"
   ]
  },
  {
   "cell_type": "code",
   "execution_count": 45,
   "metadata": {},
   "outputs": [],
   "source": [
    "#Done: 獲得価値観数EI\n",
    "@jit\n",
    "def ei(x,bounds,GP_model,jitter=0.):\n",
    "    if len(x.shape) == 1:\n",
    "        x = np.array([x])\n",
    "    mu, sig = GP_model.predict_f(x)\n",
    "    fmin = GP_model.predict_f(GP_model.X.value)[0].min()\n",
    "    if isinstance(sig, np.ndarray):\n",
    "        sig[sig<1e-10] = 1e-10\n",
    "    elif sig< 1e-10:\n",
    "        sig = 1e-10\n",
    "    u = (fmin - mu - jitter)/sig\n",
    "    phi = np.exp(-0.5 * u**2) / np.sqrt(2*np.pi)\n",
    "    Phi = 0.5 * sp.special.erfc(-u / np.sqrt(2))\n",
    "    next_x = sig * (u * Phi + phi)\n",
    "    return next_x"
   ]
  },
  {
   "cell_type": "code",
   "execution_count": 46,
   "metadata": {},
   "outputs": [],
   "source": [
    "#Done: 獲得価値観数 mean\n",
    "@jit\n",
    "def mu(x, bounds, GP_model):\n",
    "    if len(x.shape) == 1:\n",
    "        x = np.array([x])\n",
    "    mu = GP_model.predict_f(x)[0]\n",
    "    return mu"
   ]
  },
  {
   "cell_type": "code",
   "execution_count": 47,
   "metadata": {},
   "outputs": [],
   "source": [
    "#@jit\n",
    "def rollout_utility(x,\n",
    "                    bounds,\n",
    "                    func_policy, \n",
    "                    depth_h, \n",
    "                    _queries, \n",
    "                    _values, \n",
    "                    kernel,\n",
    "                    N_q,\n",
    "                    decay_rate=0.9):\n",
    "    global _h\n",
    "    global _gp_list\n",
    "    global _queries_list\n",
    "    global _values_list\n",
    "    global _trajectory\n",
    "    if len(x.shape) == 1:\n",
    "        x = np.array([x])\n",
    "    if depth_h == 0:\n",
    "        gp_model = fit(_queries, _values, kernel)\n",
    "        U = ei(x,bounds ,gp_model)\n",
    "    else:    \n",
    "        curr_depth = _h - depth_h #current depth\n",
    "        _queries = np.concatenate([_queries,x])\n",
    "        U = ei(x,bounds, gp_model)\n",
    "        # GaussHermite\n",
    "        points, weights = gauss_hermite(x, gp_model, N_q)\n",
    "        for i in range(N_q):\n",
    "            _trajectory.append(str(i))\n",
    "            #_queries = np.concatenate([_queries,x])\n",
    "            _id = str(curr_depth) + \"\".join(_trajectory)\n",
    "            if _id in _gp_list:\n",
    "                #gp_model = _gp_list[_id]\n",
    "                #_queries = _queries_list[_id]\n",
    "                _values = _values_list[_id]\n",
    "            else:\n",
    "                estimated_value = np.array([[points[0][i]]])\n",
    "                _values = np.concatenate([_values, estimated_value])\n",
    "                _gp_model = fit(_queries, _values, kernel) #memo\n",
    "                x_next = func_policy(_gp_model, depth_h)\n",
    "                \n",
    "                _gp_list[_id] = _gp_model\n",
    "                _values_list[_id] = _values\n",
    "                \n",
    "            U = U + decay_rate*rollout_utility(x_next,\n",
    "                                            bounds,\n",
    "                                            func_policy,\n",
    "                                            depth_h-1,\n",
    "                                            _queries,\n",
    "                                            _values,\n",
    "                                            kernel,\n",
    "                                            N_q,\n",
    "                                            decay_rate )\n",
    "            U = weights[i]*U\n",
    "            _values = _values[:-1,:]\n",
    "            _trajectory.pop(-1)\n",
    "        _queries = _queries[:-1,:]\n",
    "    return U(x)"
   ]
  },
  {
   "cell_type": "code",
   "execution_count": 48,
   "metadata": {},
   "outputs": [],
   "source": [
    "@jit\n",
    "def rollout_utility_archive(x,\n",
    "                    bounds,\n",
    "                    func_policy, \n",
    "                    depth_h, \n",
    "                    _queries, \n",
    "                    _values, \n",
    "                    kernel,\n",
    "                    N_q,\n",
    "                    decay_rate=0.9):\n",
    "    print(\"depth:\",depth_h)\n",
    "    if len(x.shape) == 1:\n",
    "        x = np.array([x])\n",
    "    kernel = gpflow.kernels.RBF(len(bounds), ARD=True) #todo: fuck!!\n",
    "    gp_model = fit(_queries, _values, kernel) #todo:memo\n",
    "    if depth_h == 0:\n",
    "        U = ei(x,bounds ,gp_model)\n",
    "    else:\n",
    "        U = ei(x,bounds, gp_model)\n",
    "        _queries = np.concatenate([_queries,x])\n",
    "        points, weights = gauss_hermite(x, gp_model, N_q)\n",
    "        for i in range(N_q):\n",
    "            print(\"N_q:\",i)\n",
    "            #print(i,\"beforfit_beforker\")\n",
    "            val = np.array([[points[0][i]]])\n",
    "            _values = np.concatenate([_values,val])\n",
    "            kernel = gpflow.kernels.RBF(len(bounds), ARD=True)\n",
    "            #print(\"X\",_queries)\n",
    "            #print(\"Y\",_values)\n",
    "            _gp_model = fit(_queries, _values, kernel) #todo:memo\n",
    "            #print(i,\"afterfit_afterker\")\n",
    "            x_next = func_policy(_gp_model, depth_h,bounds)\n",
    "            U = U + weights[i]*decay_rate*rollout_utility_archive(x_next,\n",
    "                                    bounds,\n",
    "                                    func_policy,\n",
    "                                    depth_h-1,\n",
    "                                    _queries,\n",
    "                                    _values,\n",
    "                                    kernel,\n",
    "                                    N_q,\n",
    "                                    decay_rate )\n",
    "            _values = _values[:-1,:]\n",
    "        _queries = _queries[:-1,:]\n",
    "    return U"
   ]
  },
  {
   "cell_type": "code",
   "execution_count": 49,
   "metadata": {},
   "outputs": [],
   "source": [
    "#Done\n",
    "@jit\n",
    "def gauss_hermite(x, GP_model, N_q):\n",
    "    points, weights = np.polynomial.hermite.hermgauss(N_q)\n",
    "    mu, sig = GP_model.predict_f(x)\n",
    "    _points = mu + np.sqrt(2)*sig*points\n",
    "    _weights = np.power(np.pi,-1/2)*weights\n",
    "    return _points, _weights"
   ]
  },
  {
   "cell_type": "code",
   "execution_count": 50,
   "metadata": {},
   "outputs": [],
   "source": [
    "#Done\n",
    "@jit\n",
    "def fit(X, Y, kernel):\n",
    "    model = gpflow.models.GPR(X,Y,kern=kernel,mean_function=None)\n",
    "    opt = gpflow.train.ScipyOptimizer()\n",
    "    opt.minimize(model,disp=False, initialize=True)\n",
    "    return model"
   ]
  },
  {
   "cell_type": "markdown",
   "metadata": {},
   "source": [
    "def minimize_lbfgsb(func_acq,bounds):\n",
    "    #todo x0 おかしい\n",
    "    res = sp.optimize.fmin_l_bfgs_b(func_acq, x0=generate_init(bounds,1), bounds=bounds,approx_grad=True, maxiter=100)\n",
    "    result_x = np.atleast_2d(res[0])\n",
    "    #result_fx = np.atleast_2d(res[1])\n",
    "    return result_x"
   ]
  },
  {
   "cell_type": "markdown",
   "metadata": {},
   "source": [
    "def minimize_basinhopping(func_acq,bounds):\n",
    "    #todo 初期位置ランダム化\n",
    "    minimizer_kwargs = dict(method=\"L-BFGS-B\", bounds=bounds,)\n",
    "    x0 = np.array([(bounds[0][1]-bounds[0][0])/2,(bounds[1][1]-bounds[1][0])/2])\n",
    "    res = sp.optimize.basinhopping(func_acq, x0=x0,minimizer_kwargs=minimizer_kwargs,niter=200)\n",
    "    return res"
   ]
  },
  {
   "cell_type": "code",
   "execution_count": 51,
   "metadata": {},
   "outputs": [],
   "source": [
    "def minimize(func_acq,bounds):\n",
    "    result_x = sp.optimize.brute(func_acq, ranges=bounds,Ns=30,finish=None)\n",
    "    #result_fx = np.atleast_2d(res[1])\n",
    "    return np.array([result_x])"
   ]
  },
  {
   "cell_type": "markdown",
   "metadata": {},
   "source": [
    "## GPy_test"
   ]
  },
  {
   "cell_type": "code",
   "execution_count": 52,
   "metadata": {},
   "outputs": [],
   "source": [
    "X = generate_init(bounds, 1) \n",
    "Y = objective_noisy.f(X)"
   ]
  },
  {
   "cell_type": "code",
   "execution_count": 53,
   "metadata": {
    "scrolled": true
   },
   "outputs": [
    {
     "name": "stderr",
     "output_type": "stream",
     "text": [
      "WARNING:gpflow.logdensities:Shape of x must be 2D at computation.\n"
     ]
    },
    {
     "name": "stdout",
     "output_type": "stream",
     "text": [
      "INFO:tensorflow:Optimization terminated with:\n",
      "  Message: b'CONVERGENCE: NORM_OF_PROJECTED_GRADIENT_<=_PGTOL'\n",
      "  Objective function value: 4.601124\n",
      "  Number of iterations: 23\n",
      "  Number of functions evaluations: 24\n"
     ]
    },
    {
     "name": "stderr",
     "output_type": "stream",
     "text": [
      "INFO:tensorflow:Optimization terminated with:\n",
      "  Message: b'CONVERGENCE: NORM_OF_PROJECTED_GRADIENT_<=_PGTOL'\n",
      "  Objective function value: 4.601124\n",
      "  Number of iterations: 23\n",
      "  Number of functions evaluations: 24\n"
     ]
    },
    {
     "data": {
      "text/html": [
       "<div>\n",
       "<style scoped>\n",
       "    .dataframe tbody tr th:only-of-type {\n",
       "        vertical-align: middle;\n",
       "    }\n",
       "\n",
       "    .dataframe tbody tr th {\n",
       "        vertical-align: top;\n",
       "    }\n",
       "\n",
       "    .dataframe thead th {\n",
       "        text-align: right;\n",
       "    }\n",
       "</style>\n",
       "<table border=\"1\" class=\"dataframe\">\n",
       "  <thead>\n",
       "    <tr style=\"text-align: right;\">\n",
       "      <th></th>\n",
       "      <th>class</th>\n",
       "      <th>prior</th>\n",
       "      <th>transform</th>\n",
       "      <th>trainable</th>\n",
       "      <th>shape</th>\n",
       "      <th>fixed_shape</th>\n",
       "      <th>value</th>\n",
       "    </tr>\n",
       "  </thead>\n",
       "  <tbody>\n",
       "    <tr>\n",
       "      <th>GPR/kern/lengthscales</th>\n",
       "      <td>Parameter</td>\n",
       "      <td>None</td>\n",
       "      <td>+ve</td>\n",
       "      <td>True</td>\n",
       "      <td>(2,)</td>\n",
       "      <td>True</td>\n",
       "      <td>[1.0, 1.0]</td>\n",
       "    </tr>\n",
       "    <tr>\n",
       "      <th>GPR/kern/variance</th>\n",
       "      <td>Parameter</td>\n",
       "      <td>None</td>\n",
       "      <td>+ve</td>\n",
       "      <td>True</td>\n",
       "      <td>()</td>\n",
       "      <td>True</td>\n",
       "      <td>288.9017140959321</td>\n",
       "    </tr>\n",
       "    <tr>\n",
       "      <th>GPR/likelihood/variance</th>\n",
       "      <td>Parameter</td>\n",
       "      <td>None</td>\n",
       "      <td>+ve</td>\n",
       "      <td>True</td>\n",
       "      <td>()</td>\n",
       "      <td>True</td>\n",
       "      <td>288.9017140959321</td>\n",
       "    </tr>\n",
       "  </tbody>\n",
       "</table>\n",
       "</div>"
      ],
      "text/plain": [
       "                             class prior transform  trainable shape  \\\n",
       "GPR/kern/lengthscales    Parameter  None       +ve       True  (2,)   \n",
       "GPR/kern/variance        Parameter  None       +ve       True    ()   \n",
       "GPR/likelihood/variance  Parameter  None       +ve       True    ()   \n",
       "\n",
       "                         fixed_shape              value  \n",
       "GPR/kern/lengthscales           True         [1.0, 1.0]  \n",
       "GPR/kern/variance               True  288.9017140959321  \n",
       "GPR/likelihood/variance         True  288.9017140959321  "
      ]
     },
     "execution_count": 53,
     "metadata": {},
     "output_type": "execute_result"
    }
   ],
   "source": [
    "kernel = gpflow.kernels.RBF(input_dim=2, ARD=True)\n",
    "model = gpflow.models.GPR(X,Y,kern=kernel,mean_function=None)\n",
    "\n",
    "opt = gpflow.train.ScipyOptimizer()\n",
    "opt.minimize(model, disp=False, initialize=True)\n",
    "model.as_pandas_table()"
   ]
  },
  {
   "cell_type": "markdown",
   "metadata": {},
   "source": [
    "## Mean"
   ]
  },
  {
   "cell_type": "code",
   "execution_count": 54,
   "metadata": {},
   "outputs": [
    {
     "data": {
      "image/png": "[encoded data removed]",
      "text/plain": [
       "<Figure size 432x288 with 2 Axes>"
      ]
     },
     "metadata": {},
     "output_type": "display_data"
    }
   ],
   "source": [
    "grid = 20\n",
    "x1 = np.linspace(bounds[0][0], bounds[0][1], grid)\n",
    "x2 = np.linspace(bounds[1][0], bounds[1][1], grid)\n",
    "X1, X2 = np.meshgrid(x1, x2)\n",
    "_X = np.hstack((X1.reshape(grid*grid,1),X2.reshape(grid*grid,1)))\n",
    "_Y,var =  model.predict_f(_X)\n",
    "plt.figure()    \n",
    "plt.contourf(X1, X2, _Y.reshape((grid,grid)),grid)\n",
    "plt.colorbar()\n",
    "plt.xlabel('X1')\n",
    "plt.ylabel('X2')\n",
    "plt.title(\"mean\")\n",
    "plt.show()"
   ]
  },
  {
   "cell_type": "markdown",
   "metadata": {},
   "source": [
    "## EI"
   ]
  },
  {
   "cell_type": "code",
   "execution_count": 55,
   "metadata": {},
   "outputs": [],
   "source": [
    "grid = 20\n",
    "x1 = np.linspace(bounds[0][0], bounds[0][1], grid)\n",
    "x2 = np.linspace(bounds[1][0], bounds[1][1], grid)\n",
    "X1, X2 = np.meshgrid(x1, x2)\n",
    "_X = np.hstack((X1.reshape(grid*grid,1),X2.reshape(grid*grid,1)))\n",
    "_Y = ei(_X, bounds, model)"
   ]
  },
  {
   "cell_type": "code",
   "execution_count": 56,
   "metadata": {},
   "outputs": [
    {
     "data": {
      "text/plain": [
       "[(-5, 10), (1, 15)]"
      ]
     },
     "execution_count": 56,
     "metadata": {},
     "output_type": "execute_result"
    }
   ],
   "source": [
    "bounds"
   ]
  },
  {
   "cell_type": "code",
   "execution_count": 57,
   "metadata": {},
   "outputs": [
    {
     "data": {
      "text/plain": [
       "array([[0.68965517, 1.        ]])"
      ]
     },
     "execution_count": 57,
     "metadata": {},
     "output_type": "execute_result"
    }
   ],
   "source": [
    "acq = lambda x: -1*ei(x, bounds, model)\n",
    "x = minimize(acq,bounds)\n",
    "x"
   ]
  },
  {
   "cell_type": "code",
   "execution_count": 58,
   "metadata": {
    "scrolled": true
   },
   "outputs": [
    {
     "data": {
      "image/png": "[encoded data removed]",
      "text/plain": [
       "<Figure size 432x288 with 2 Axes>"
      ]
     },
     "metadata": {},
     "output_type": "display_data"
    }
   ],
   "source": [
    "plt.figure()    \n",
    "plt.contourf(X1, X2, _Y.reshape((grid,grid)),grid)\n",
    "plt.colorbar()\n",
    "plt.xlabel('X1')\n",
    "plt.ylabel('X2')\n",
    "plt.title(\"expected_improvement\")\n",
    "plt.show()"
   ]
  },
  {
   "cell_type": "code",
   "execution_count": 59,
   "metadata": {
    "scrolled": true
   },
   "outputs": [
    {
     "name": "stderr",
     "output_type": "stream",
     "text": [
      "WARNING:gpflow.logdensities:Shape of x must be 2D at computation.\n"
     ]
    },
    {
     "name": "stdout",
     "output_type": "stream",
     "text": [
      "0\n",
      "INFO:tensorflow:Optimization terminated with:\n",
      "  Message: b'CONVERGENCE: NORM_OF_PROJECTED_GRADIENT_<=_PGTOL'\n",
      "  Objective function value: 5.772461\n",
      "  Number of iterations: 30\n",
      "  Number of functions evaluations: 31\n"
     ]
    },
    {
     "name": "stderr",
     "output_type": "stream",
     "text": [
      "INFO:tensorflow:Optimization terminated with:\n",
      "  Message: b'CONVERGENCE: NORM_OF_PROJECTED_GRADIENT_<=_PGTOL'\n",
      "  Objective function value: 5.772461\n",
      "  Number of iterations: 30\n",
      "  Number of functions evaluations: 31\n",
      "WARNING:gpflow.logdensities:Shape of x must be 2D at computation.\n"
     ]
    },
    {
     "name": "stdout",
     "output_type": "stream",
     "text": [
      "1\n",
      "INFO:tensorflow:Optimization terminated with:\n",
      "  Message: b'CONVERGENCE: NORM_OF_PROJECTED_GRADIENT_<=_PGTOL'\n",
      "  Objective function value: 13.477239\n",
      "  Number of iterations: 9\n",
      "  Number of functions evaluations: 14\n"
     ]
    },
    {
     "name": "stderr",
     "output_type": "stream",
     "text": [
      "INFO:tensorflow:Optimization terminated with:\n",
      "  Message: b'CONVERGENCE: NORM_OF_PROJECTED_GRADIENT_<=_PGTOL'\n",
      "  Objective function value: 13.477239\n",
      "  Number of iterations: 9\n",
      "  Number of functions evaluations: 14\n",
      "WARNING:gpflow.logdensities:Shape of x must be 2D at computation.\n"
     ]
    },
    {
     "name": "stdout",
     "output_type": "stream",
     "text": [
      "2\n",
      "INFO:tensorflow:Optimization terminated with:\n",
      "  Message: b'CONVERGENCE: NORM_OF_PROJECTED_GRADIENT_<=_PGTOL'\n",
      "  Objective function value: 19.690796\n",
      "  Number of iterations: 2\n",
      "  Number of functions evaluations: 8\n"
     ]
    },
    {
     "name": "stderr",
     "output_type": "stream",
     "text": [
      "INFO:tensorflow:Optimization terminated with:\n",
      "  Message: b'CONVERGENCE: NORM_OF_PROJECTED_GRADIENT_<=_PGTOL'\n",
      "  Objective function value: 19.690796\n",
      "  Number of iterations: 2\n",
      "  Number of functions evaluations: 8\n",
      "WARNING:gpflow.logdensities:Shape of x must be 2D at computation.\n"
     ]
    },
    {
     "name": "stdout",
     "output_type": "stream",
     "text": [
      "3\n",
      "INFO:tensorflow:Optimization terminated with:\n",
      "  Message: b'CONVERGENCE: NORM_OF_PROJECTED_GRADIENT_<=_PGTOL'\n",
      "  Objective function value: 25.677758\n",
      "  Number of iterations: 0\n",
      "  Number of functions evaluations: 1\n"
     ]
    },
    {
     "name": "stderr",
     "output_type": "stream",
     "text": [
      "INFO:tensorflow:Optimization terminated with:\n",
      "  Message: b'CONVERGENCE: NORM_OF_PROJECTED_GRADIENT_<=_PGTOL'\n",
      "  Objective function value: 25.677758\n",
      "  Number of iterations: 0\n",
      "  Number of functions evaluations: 1\n",
      "WARNING:gpflow.logdensities:Shape of x must be 2D at computation.\n"
     ]
    },
    {
     "name": "stdout",
     "output_type": "stream",
     "text": [
      "4\n",
      "INFO:tensorflow:Optimization terminated with:\n",
      "  Message: b'CONVERGENCE: NORM_OF_PROJECTED_GRADIENT_<=_PGTOL'\n",
      "  Objective function value: 31.535668\n",
      "  Number of iterations: 3\n",
      "  Number of functions evaluations: 9\n"
     ]
    },
    {
     "name": "stderr",
     "output_type": "stream",
     "text": [
      "INFO:tensorflow:Optimization terminated with:\n",
      "  Message: b'CONVERGENCE: NORM_OF_PROJECTED_GRADIENT_<=_PGTOL'\n",
      "  Objective function value: 31.535668\n",
      "  Number of iterations: 3\n",
      "  Number of functions evaluations: 9\n",
      "WARNING:gpflow.logdensities:Shape of x must be 2D at computation.\n"
     ]
    },
    {
     "name": "stdout",
     "output_type": "stream",
     "text": [
      "5\n",
      "INFO:tensorflow:Optimization terminated with:\n",
      "  Message: b'CONVERGENCE: NORM_OF_PROJECTED_GRADIENT_<=_PGTOL'\n",
      "  Objective function value: 37.953547\n",
      "  Number of iterations: 0\n",
      "  Number of functions evaluations: 1\n"
     ]
    },
    {
     "name": "stderr",
     "output_type": "stream",
     "text": [
      "INFO:tensorflow:Optimization terminated with:\n",
      "  Message: b'CONVERGENCE: NORM_OF_PROJECTED_GRADIENT_<=_PGTOL'\n",
      "  Objective function value: 37.953547\n",
      "  Number of iterations: 0\n",
      "  Number of functions evaluations: 1\n",
      "WARNING:gpflow.logdensities:Shape of x must be 2D at computation.\n"
     ]
    },
    {
     "name": "stdout",
     "output_type": "stream",
     "text": [
      "6\n",
      "INFO:tensorflow:Optimization terminated with:\n",
      "  Message: b'CONVERGENCE: NORM_OF_PROJECTED_GRADIENT_<=_PGTOL'\n",
      "  Objective function value: 42.886538\n",
      "  Number of iterations: 20\n",
      "  Number of functions evaluations: 36\n"
     ]
    },
    {
     "name": "stderr",
     "output_type": "stream",
     "text": [
      "INFO:tensorflow:Optimization terminated with:\n",
      "  Message: b'CONVERGENCE: NORM_OF_PROJECTED_GRADIENT_<=_PGTOL'\n",
      "  Objective function value: 42.886538\n",
      "  Number of iterations: 20\n",
      "  Number of functions evaluations: 36\n",
      "WARNING:gpflow.logdensities:Shape of x must be 2D at computation.\n"
     ]
    },
    {
     "name": "stdout",
     "output_type": "stream",
     "text": [
      "7\n",
      "INFO:tensorflow:Optimization terminated with:\n",
      "  Message: b'CONVERGENCE: REL_REDUCTION_OF_F_<=_FACTR*EPSMCH'\n",
      "  Objective function value: 48.211542\n",
      "  Number of iterations: 6\n",
      "  Number of functions evaluations: 8\n"
     ]
    },
    {
     "name": "stderr",
     "output_type": "stream",
     "text": [
      "INFO:tensorflow:Optimization terminated with:\n",
      "  Message: b'CONVERGENCE: REL_REDUCTION_OF_F_<=_FACTR*EPSMCH'\n",
      "  Objective function value: 48.211542\n",
      "  Number of iterations: 6\n",
      "  Number of functions evaluations: 8\n",
      "WARNING:gpflow.logdensities:Shape of x must be 2D at computation.\n"
     ]
    },
    {
     "name": "stdout",
     "output_type": "stream",
     "text": [
      "8\n",
      "INFO:tensorflow:Optimization terminated with:\n",
      "  Message: b'CONVERGENCE: REL_REDUCTION_OF_F_<=_FACTR*EPSMCH'\n",
      "  Objective function value: 54.386968\n",
      "  Number of iterations: 6\n",
      "  Number of functions evaluations: 7\n"
     ]
    },
    {
     "name": "stderr",
     "output_type": "stream",
     "text": [
      "INFO:tensorflow:Optimization terminated with:\n",
      "  Message: b'CONVERGENCE: REL_REDUCTION_OF_F_<=_FACTR*EPSMCH'\n",
      "  Objective function value: 54.386968\n",
      "  Number of iterations: 6\n",
      "  Number of functions evaluations: 7\n"
     ]
    }
   ],
   "source": [
    "seed=3\n",
    "obj_f = objective_noisy.f\n",
    "kernel = gpflow.kernels.RBF(input_dim=2, ARD=True)\n",
    "np.random.seed(seed=seed)\n",
    "N_q=1\n",
    "N = 10\n",
    "queryei, valueei = bayesianOptimization(obj_f, \n",
    "                                        ei,\n",
    "                                        bounds,\n",
    "                                        kernel,\n",
    "                                        depth_h = h,\n",
    "                                        N = N,\n",
    "                                        N_q = N_q\n",
    "                                       )"
   ]
  },
  {
   "cell_type": "code",
   "execution_count": 60,
   "metadata": {},
   "outputs": [
    {
     "data": {
      "text/plain": [
       "array([[ 3.26196854, 10.91406952],\n",
       "       [-5.        ,  1.        ],\n",
       "       [-5.        ,  9.20689655],\n",
       "       [ 3.27586207,  1.        ],\n",
       "       [ 9.48275862,  5.34482759],\n",
       "       [10.        , 15.        ],\n",
       "       [-1.89655172, 15.        ],\n",
       "       [10.        ,  1.        ],\n",
       "       [-0.86206897,  5.82758621],\n",
       "       [-5.        , 15.        ]])"
      ]
     },
     "execution_count": 60,
     "metadata": {},
     "output_type": "execute_result"
    }
   ],
   "source": [
    "queryei"
   ]
  },
  {
   "cell_type": "code",
   "execution_count": 61,
   "metadata": {
    "scrolled": true
   },
   "outputs": [
    {
     "data": {
      "text/plain": [
       "array([ 77.70867239, 275.56802697,  77.38381242,   2.82386862,\n",
       "         9.36088647, 146.80949081,  38.35866398,   6.90725402,\n",
       "        19.80938005,  18.59676175])"
      ]
     },
     "execution_count": 61,
     "metadata": {},
     "output_type": "execute_result"
    }
   ],
   "source": [
    "valueei[:,0]"
   ]
  },
  {
   "cell_type": "code",
   "execution_count": 62,
   "metadata": {},
   "outputs": [
    {
     "data": {
      "text/plain": [
       "<matplotlib.collections.PathCollection at 0x7f7807378860>"
      ]
     },
     "execution_count": 62,
     "metadata": {},
     "output_type": "execute_result"
    },
    {
     "data": {
      "image/png": "[encoded data removed]",
      "text/plain": [
       "<Figure size 432x288 with 1 Axes>"
      ]
     },
     "metadata": {},
     "output_type": "display_data"
    }
   ],
   "source": [
    "plt.scatter(queryei[:,0],queryei[:,1])"
   ]
  },
  {
   "cell_type": "markdown",
   "metadata": {},
   "source": [
    "## Rollout "
   ]
  },
  {
   "cell_type": "code",
   "execution_count": null,
   "metadata": {
    "scrolled": true
   },
   "outputs": [
    {
     "name": "stdout",
     "output_type": "stream",
     "text": [
      "0\n",
      "depth: 1\n"
     ]
    },
    {
     "name": "stderr",
     "output_type": "stream",
     "text": [
      "WARNING:gpflow.logdensities:Shape of x must be 2D at computation.\n"
     ]
    },
    {
     "name": "stdout",
     "output_type": "stream",
     "text": [
      "INFO:tensorflow:Optimization terminated with:\n",
      "  Message: b'CONVERGENCE: NORM_OF_PROJECTED_GRADIENT_<=_PGTOL'\n",
      "  Objective function value: 4.601124\n",
      "  Number of iterations: 23\n",
      "  Number of functions evaluations: 24\n"
     ]
    },
    {
     "name": "stderr",
     "output_type": "stream",
     "text": [
      "INFO:tensorflow:Optimization terminated with:\n",
      "  Message: b'CONVERGENCE: NORM_OF_PROJECTED_GRADIENT_<=_PGTOL'\n",
      "  Objective function value: 4.601124\n",
      "  Number of iterations: 23\n",
      "  Number of functions evaluations: 24\n"
     ]
    },
    {
     "name": "stdout",
     "output_type": "stream",
     "text": [
      "N_q: 0\n"
     ]
    },
    {
     "name": "stderr",
     "output_type": "stream",
     "text": [
      "WARNING:gpflow.logdensities:Shape of x must be 2D at computation.\n"
     ]
    },
    {
     "name": "stdout",
     "output_type": "stream",
     "text": [
      "INFO:tensorflow:Optimization terminated with:\n",
      "  Message: b'CONVERGENCE: NORM_OF_PROJECTED_GRADIENT_<=_PGTOL'\n",
      "  Objective function value: 14.661420\n",
      "  Number of iterations: 38\n",
      "  Number of functions evaluations: 39\n"
     ]
    },
    {
     "name": "stderr",
     "output_type": "stream",
     "text": [
      "INFO:tensorflow:Optimization terminated with:\n",
      "  Message: b'CONVERGENCE: NORM_OF_PROJECTED_GRADIENT_<=_PGTOL'\n",
      "  Objective function value: 14.661420\n",
      "  Number of iterations: 38\n",
      "  Number of functions evaluations: 39\n"
     ]
    },
    {
     "name": "stdout",
     "output_type": "stream",
     "text": [
      "depth: 0\n"
     ]
    },
    {
     "name": "stderr",
     "output_type": "stream",
     "text": [
      "WARNING:gpflow.logdensities:Shape of x must be 2D at computation.\n"
     ]
    },
    {
     "name": "stdout",
     "output_type": "stream",
     "text": [
      "INFO:tensorflow:Optimization terminated with:\n",
      "  Message: b'CONVERGENCE: NORM_OF_PROJECTED_GRADIENT_<=_PGTOL'\n",
      "  Objective function value: 14.661420\n",
      "  Number of iterations: 38\n",
      "  Number of functions evaluations: 39\n"
     ]
    },
    {
     "name": "stderr",
     "output_type": "stream",
     "text": [
      "INFO:tensorflow:Optimization terminated with:\n",
      "  Message: b'CONVERGENCE: NORM_OF_PROJECTED_GRADIENT_<=_PGTOL'\n",
      "  Objective function value: 14.661420\n",
      "  Number of iterations: 38\n",
      "  Number of functions evaluations: 39\n"
     ]
    },
    {
     "name": "stdout",
     "output_type": "stream",
     "text": [
      "N_q: 1\n"
     ]
    },
    {
     "name": "stderr",
     "output_type": "stream",
     "text": [
      "WARNING:gpflow.logdensities:Shape of x must be 2D at computation.\n"
     ]
    },
    {
     "name": "stdout",
     "output_type": "stream",
     "text": [
      "INFO:tensorflow:Optimization terminated with:\n",
      "  Message: b'CONVERGENCE: NORM_OF_PROJECTED_GRADIENT_<=_PGTOL'\n",
      "  Objective function value: 8.509090\n",
      "  Number of iterations: 21\n",
      "  Number of functions evaluations: 22\n"
     ]
    },
    {
     "name": "stderr",
     "output_type": "stream",
     "text": [
      "INFO:tensorflow:Optimization terminated with:\n",
      "  Message: b'CONVERGENCE: NORM_OF_PROJECTED_GRADIENT_<=_PGTOL'\n",
      "  Objective function value: 8.509090\n",
      "  Number of iterations: 21\n",
      "  Number of functions evaluations: 22\n"
     ]
    },
    {
     "name": "stdout",
     "output_type": "stream",
     "text": [
      "depth: 0\n"
     ]
    },
    {
     "name": "stderr",
     "output_type": "stream",
     "text": [
      "WARNING:gpflow.logdensities:Shape of x must be 2D at computation.\n"
     ]
    },
    {
     "name": "stdout",
     "output_type": "stream",
     "text": [
      "INFO:tensorflow:Optimization terminated with:\n",
      "  Message: b'CONVERGENCE: NORM_OF_PROJECTED_GRADIENT_<=_PGTOL'\n",
      "  Objective function value: 8.509090\n",
      "  Number of iterations: 21\n",
      "  Number of functions evaluations: 22\n"
     ]
    },
    {
     "name": "stderr",
     "output_type": "stream",
     "text": [
      "INFO:tensorflow:Optimization terminated with:\n",
      "  Message: b'CONVERGENCE: NORM_OF_PROJECTED_GRADIENT_<=_PGTOL'\n",
      "  Objective function value: 8.509090\n",
      "  Number of iterations: 21\n",
      "  Number of functions evaluations: 22\n"
     ]
    },
    {
     "name": "stdout",
     "output_type": "stream",
     "text": [
      "N_q: 2\n"
     ]
    },
    {
     "name": "stderr",
     "output_type": "stream",
     "text": [
      "WARNING:gpflow.logdensities:Shape of x must be 2D at computation.\n"
     ]
    },
    {
     "name": "stdout",
     "output_type": "stream",
     "text": [
      "INFO:tensorflow:Optimization terminated with:\n",
      "  Message: b'CONVERGENCE: NORM_OF_PROJECTED_GRADIENT_<=_PGTOL'\n",
      "  Objective function value: 14.661420\n",
      "  Number of iterations: 38\n",
      "  Number of functions evaluations: 39\n"
     ]
    },
    {
     "name": "stderr",
     "output_type": "stream",
     "text": [
      "INFO:tensorflow:Optimization terminated with:\n",
      "  Message: b'CONVERGENCE: NORM_OF_PROJECTED_GRADIENT_<=_PGTOL'\n",
      "  Objective function value: 14.661420\n",
      "  Number of iterations: 38\n",
      "  Number of functions evaluations: 39\n"
     ]
    },
    {
     "name": "stdout",
     "output_type": "stream",
     "text": [
      "depth: 0\n"
     ]
    },
    {
     "name": "stderr",
     "output_type": "stream",
     "text": [
      "WARNING:gpflow.logdensities:Shape of x must be 2D at computation.\n"
     ]
    },
    {
     "name": "stdout",
     "output_type": "stream",
     "text": [
      "INFO:tensorflow:Optimization terminated with:\n",
      "  Message: b'CONVERGENCE: NORM_OF_PROJECTED_GRADIENT_<=_PGTOL'\n",
      "  Objective function value: 14.661420\n",
      "  Number of iterations: 38\n",
      "  Number of functions evaluations: 39\n"
     ]
    },
    {
     "name": "stderr",
     "output_type": "stream",
     "text": [
      "INFO:tensorflow:Optimization terminated with:\n",
      "  Message: b'CONVERGENCE: NORM_OF_PROJECTED_GRADIENT_<=_PGTOL'\n",
      "  Objective function value: 14.661420\n",
      "  Number of iterations: 38\n",
      "  Number of functions evaluations: 39\n"
     ]
    },
    {
     "name": "stdout",
     "output_type": "stream",
     "text": [
      "1\n",
      "depth: 1\n"
     ]
    },
    {
     "name": "stderr",
     "output_type": "stream",
     "text": [
      "WARNING:gpflow.logdensities:Shape of x must be 2D at computation.\n"
     ]
    },
    {
     "name": "stdout",
     "output_type": "stream",
     "text": [
      "INFO:tensorflow:Optimization terminated with:\n",
      "  Message: b'CONVERGENCE: NORM_OF_PROJECTED_GRADIENT_<=_PGTOL'\n",
      "  Objective function value: 4.601124\n",
      "  Number of iterations: 23\n",
      "  Number of functions evaluations: 24\n"
     ]
    },
    {
     "name": "stderr",
     "output_type": "stream",
     "text": [
      "INFO:tensorflow:Optimization terminated with:\n",
      "  Message: b'CONVERGENCE: NORM_OF_PROJECTED_GRADIENT_<=_PGTOL'\n",
      "  Objective function value: 4.601124\n",
      "  Number of iterations: 23\n",
      "  Number of functions evaluations: 24\n"
     ]
    },
    {
     "name": "stdout",
     "output_type": "stream",
     "text": [
      "N_q: 0\n"
     ]
    },
    {
     "name": "stderr",
     "output_type": "stream",
     "text": [
      "WARNING:gpflow.logdensities:Shape of x must be 2D at computation.\n"
     ]
    },
    {
     "name": "stdout",
     "output_type": "stream",
     "text": [
      "INFO:tensorflow:Optimization terminated with:\n",
      "  Message: b'CONVERGENCE: NORM_OF_PROJECTED_GRADIENT_<=_PGTOL'\n",
      "  Objective function value: 14.661420\n",
      "  Number of iterations: 38\n",
      "  Number of functions evaluations: 39\n"
     ]
    },
    {
     "name": "stderr",
     "output_type": "stream",
     "text": [
      "INFO:tensorflow:Optimization terminated with:\n",
      "  Message: b'CONVERGENCE: NORM_OF_PROJECTED_GRADIENT_<=_PGTOL'\n",
      "  Objective function value: 14.661420\n",
      "  Number of iterations: 38\n",
      "  Number of functions evaluations: 39\n"
     ]
    },
    {
     "name": "stdout",
     "output_type": "stream",
     "text": [
      "depth: 0\n"
     ]
    },
    {
     "name": "stderr",
     "output_type": "stream",
     "text": [
      "WARNING:gpflow.logdensities:Shape of x must be 2D at computation.\n"
     ]
    },
    {
     "name": "stdout",
     "output_type": "stream",
     "text": [
      "INFO:tensorflow:Optimization terminated with:\n",
      "  Message: b'CONVERGENCE: NORM_OF_PROJECTED_GRADIENT_<=_PGTOL'\n",
      "  Objective function value: 14.661420\n",
      "  Number of iterations: 38\n",
      "  Number of functions evaluations: 39\n"
     ]
    },
    {
     "name": "stderr",
     "output_type": "stream",
     "text": [
      "INFO:tensorflow:Optimization terminated with:\n",
      "  Message: b'CONVERGENCE: NORM_OF_PROJECTED_GRADIENT_<=_PGTOL'\n",
      "  Objective function value: 14.661420\n",
      "  Number of iterations: 38\n",
      "  Number of functions evaluations: 39\n"
     ]
    },
    {
     "name": "stdout",
     "output_type": "stream",
     "text": [
      "N_q: 1\n"
     ]
    },
    {
     "name": "stderr",
     "output_type": "stream",
     "text": [
      "WARNING:gpflow.logdensities:Shape of x must be 2D at computation.\n"
     ]
    },
    {
     "name": "stdout",
     "output_type": "stream",
     "text": [
      "INFO:tensorflow:Optimization terminated with:\n",
      "  Message: b'CONVERGENCE: NORM_OF_PROJECTED_GRADIENT_<=_PGTOL'\n",
      "  Objective function value: 8.509090\n",
      "  Number of iterations: 21\n",
      "  Number of functions evaluations: 22\n"
     ]
    },
    {
     "name": "stderr",
     "output_type": "stream",
     "text": [
      "INFO:tensorflow:Optimization terminated with:\n",
      "  Message: b'CONVERGENCE: NORM_OF_PROJECTED_GRADIENT_<=_PGTOL'\n",
      "  Objective function value: 8.509090\n",
      "  Number of iterations: 21\n",
      "  Number of functions evaluations: 22\n"
     ]
    },
    {
     "name": "stdout",
     "output_type": "stream",
     "text": [
      "depth: 0\n"
     ]
    },
    {
     "name": "stderr",
     "output_type": "stream",
     "text": [
      "WARNING:gpflow.logdensities:Shape of x must be 2D at computation.\n"
     ]
    },
    {
     "name": "stdout",
     "output_type": "stream",
     "text": [
      "INFO:tensorflow:Optimization terminated with:\n",
      "  Message: b'CONVERGENCE: NORM_OF_PROJECTED_GRADIENT_<=_PGTOL'\n",
      "  Objective function value: 8.509090\n",
      "  Number of iterations: 21\n",
      "  Number of functions evaluations: 22\n"
     ]
    },
    {
     "name": "stderr",
     "output_type": "stream",
     "text": [
      "INFO:tensorflow:Optimization terminated with:\n",
      "  Message: b'CONVERGENCE: NORM_OF_PROJECTED_GRADIENT_<=_PGTOL'\n",
      "  Objective function value: 8.509090\n",
      "  Number of iterations: 21\n",
      "  Number of functions evaluations: 22\n"
     ]
    },
    {
     "name": "stdout",
     "output_type": "stream",
     "text": [
      "N_q: 2\n"
     ]
    },
    {
     "name": "stderr",
     "output_type": "stream",
     "text": [
      "WARNING:gpflow.logdensities:Shape of x must be 2D at computation.\n"
     ]
    },
    {
     "name": "stdout",
     "output_type": "stream",
     "text": [
      "INFO:tensorflow:Optimization terminated with:\n",
      "  Message: b'CONVERGENCE: NORM_OF_PROJECTED_GRADIENT_<=_PGTOL'\n",
      "  Objective function value: 14.661420\n",
      "  Number of iterations: 38\n",
      "  Number of functions evaluations: 39\n"
     ]
    },
    {
     "name": "stderr",
     "output_type": "stream",
     "text": [
      "INFO:tensorflow:Optimization terminated with:\n",
      "  Message: b'CONVERGENCE: NORM_OF_PROJECTED_GRADIENT_<=_PGTOL'\n",
      "  Objective function value: 14.661420\n",
      "  Number of iterations: 38\n",
      "  Number of functions evaluations: 39\n"
     ]
    },
    {
     "name": "stdout",
     "output_type": "stream",
     "text": [
      "depth: 0\n"
     ]
    },
    {
     "name": "stderr",
     "output_type": "stream",
     "text": [
      "WARNING:gpflow.logdensities:Shape of x must be 2D at computation.\n"
     ]
    },
    {
     "name": "stdout",
     "output_type": "stream",
     "text": [
      "INFO:tensorflow:Optimization terminated with:\n",
      "  Message: b'CONVERGENCE: NORM_OF_PROJECTED_GRADIENT_<=_PGTOL'\n",
      "  Objective function value: 14.661420\n",
      "  Number of iterations: 38\n",
      "  Number of functions evaluations: 39\n"
     ]
    },
    {
     "name": "stderr",
     "output_type": "stream",
     "text": [
      "INFO:tensorflow:Optimization terminated with:\n",
      "  Message: b'CONVERGENCE: NORM_OF_PROJECTED_GRADIENT_<=_PGTOL'\n",
      "  Objective function value: 14.661420\n",
      "  Number of iterations: 38\n",
      "  Number of functions evaluations: 39\n"
     ]
    },
    {
     "name": "stdout",
     "output_type": "stream",
     "text": [
      "2\n",
      "depth: 1\n"
     ]
    },
    {
     "name": "stderr",
     "output_type": "stream",
     "text": [
      "WARNING:gpflow.logdensities:Shape of x must be 2D at computation.\n"
     ]
    },
    {
     "name": "stdout",
     "output_type": "stream",
     "text": [
      "INFO:tensorflow:Optimization terminated with:\n",
      "  Message: b'CONVERGENCE: NORM_OF_PROJECTED_GRADIENT_<=_PGTOL'\n",
      "  Objective function value: 4.601124\n",
      "  Number of iterations: 23\n",
      "  Number of functions evaluations: 24\n"
     ]
    },
    {
     "name": "stderr",
     "output_type": "stream",
     "text": [
      "INFO:tensorflow:Optimization terminated with:\n",
      "  Message: b'CONVERGENCE: NORM_OF_PROJECTED_GRADIENT_<=_PGTOL'\n",
      "  Objective function value: 4.601124\n",
      "  Number of iterations: 23\n",
      "  Number of functions evaluations: 24\n"
     ]
    },
    {
     "name": "stdout",
     "output_type": "stream",
     "text": [
      "N_q: 0\n"
     ]
    },
    {
     "name": "stderr",
     "output_type": "stream",
     "text": [
      "WARNING:gpflow.logdensities:Shape of x must be 2D at computation.\n"
     ]
    },
    {
     "name": "stdout",
     "output_type": "stream",
     "text": [
      "INFO:tensorflow:Optimization terminated with:\n",
      "  Message: b'CONVERGENCE: NORM_OF_PROJECTED_GRADIENT_<=_PGTOL'\n",
      "  Objective function value: 14.661420\n",
      "  Number of iterations: 38\n",
      "  Number of functions evaluations: 39\n"
     ]
    },
    {
     "name": "stderr",
     "output_type": "stream",
     "text": [
      "INFO:tensorflow:Optimization terminated with:\n",
      "  Message: b'CONVERGENCE: NORM_OF_PROJECTED_GRADIENT_<=_PGTOL'\n",
      "  Objective function value: 14.661420\n",
      "  Number of iterations: 38\n",
      "  Number of functions evaluations: 39\n"
     ]
    },
    {
     "name": "stdout",
     "output_type": "stream",
     "text": [
      "depth: 0\n"
     ]
    },
    {
     "name": "stderr",
     "output_type": "stream",
     "text": [
      "WARNING:gpflow.logdensities:Shape of x must be 2D at computation.\n"
     ]
    },
    {
     "name": "stdout",
     "output_type": "stream",
     "text": [
      "INFO:tensorflow:Optimization terminated with:\n",
      "  Message: b'CONVERGENCE: NORM_OF_PROJECTED_GRADIENT_<=_PGTOL'\n",
      "  Objective function value: 14.661420\n",
      "  Number of iterations: 38\n",
      "  Number of functions evaluations: 39\n"
     ]
    },
    {
     "name": "stderr",
     "output_type": "stream",
     "text": [
      "INFO:tensorflow:Optimization terminated with:\n",
      "  Message: b'CONVERGENCE: NORM_OF_PROJECTED_GRADIENT_<=_PGTOL'\n",
      "  Objective function value: 14.661420\n",
      "  Number of iterations: 38\n",
      "  Number of functions evaluations: 39\n"
     ]
    },
    {
     "name": "stdout",
     "output_type": "stream",
     "text": [
      "N_q: 1\n"
     ]
    },
    {
     "name": "stderr",
     "output_type": "stream",
     "text": [
      "WARNING:gpflow.logdensities:Shape of x must be 2D at computation.\n"
     ]
    },
    {
     "name": "stdout",
     "output_type": "stream",
     "text": [
      "INFO:tensorflow:Optimization terminated with:\n",
      "  Message: b'CONVERGENCE: NORM_OF_PROJECTED_GRADIENT_<=_PGTOL'\n",
      "  Objective function value: 8.509090\n",
      "  Number of iterations: 21\n",
      "  Number of functions evaluations: 22\n"
     ]
    },
    {
     "name": "stderr",
     "output_type": "stream",
     "text": [
      "INFO:tensorflow:Optimization terminated with:\n",
      "  Message: b'CONVERGENCE: NORM_OF_PROJECTED_GRADIENT_<=_PGTOL'\n",
      "  Objective function value: 8.509090\n",
      "  Number of iterations: 21\n",
      "  Number of functions evaluations: 22\n"
     ]
    },
    {
     "name": "stdout",
     "output_type": "stream",
     "text": [
      "depth: 0\n"
     ]
    },
    {
     "name": "stderr",
     "output_type": "stream",
     "text": [
      "WARNING:gpflow.logdensities:Shape of x must be 2D at computation.\n"
     ]
    },
    {
     "name": "stdout",
     "output_type": "stream",
     "text": [
      "INFO:tensorflow:Optimization terminated with:\n",
      "  Message: b'CONVERGENCE: NORM_OF_PROJECTED_GRADIENT_<=_PGTOL'\n",
      "  Objective function value: 8.509090\n",
      "  Number of iterations: 21\n",
      "  Number of functions evaluations: 22\n"
     ]
    },
    {
     "name": "stderr",
     "output_type": "stream",
     "text": [
      "INFO:tensorflow:Optimization terminated with:\n",
      "  Message: b'CONVERGENCE: NORM_OF_PROJECTED_GRADIENT_<=_PGTOL'\n",
      "  Objective function value: 8.509090\n",
      "  Number of iterations: 21\n",
      "  Number of functions evaluations: 22\n"
     ]
    },
    {
     "name": "stdout",
     "output_type": "stream",
     "text": [
      "N_q: 2\n"
     ]
    },
    {
     "name": "stderr",
     "output_type": "stream",
     "text": [
      "WARNING:gpflow.logdensities:Shape of x must be 2D at computation.\n"
     ]
    },
    {
     "name": "stdout",
     "output_type": "stream",
     "text": [
      "INFO:tensorflow:Optimization terminated with:\n",
      "  Message: b'CONVERGENCE: NORM_OF_PROJECTED_GRADIENT_<=_PGTOL'\n",
      "  Objective function value: 14.661420\n",
      "  Number of iterations: 38\n",
      "  Number of functions evaluations: 39\n"
     ]
    },
    {
     "name": "stderr",
     "output_type": "stream",
     "text": [
      "INFO:tensorflow:Optimization terminated with:\n",
      "  Message: b'CONVERGENCE: NORM_OF_PROJECTED_GRADIENT_<=_PGTOL'\n",
      "  Objective function value: 14.661420\n",
      "  Number of iterations: 38\n",
      "  Number of functions evaluations: 39\n"
     ]
    },
    {
     "name": "stdout",
     "output_type": "stream",
     "text": [
      "depth: 0\n"
     ]
    },
    {
     "name": "stderr",
     "output_type": "stream",
     "text": [
      "WARNING:gpflow.logdensities:Shape of x must be 2D at computation.\n"
     ]
    }
   ],
   "source": [
    "x1 = np.linspace(bounds[0][0], bounds[0][1], grid)\n",
    "x2 = np.linspace(bounds[1][0], bounds[1][1], grid)\n",
    "X1, X2 = np.meshgrid(x1, x2)\n",
    "_X = np.hstack((X1.reshape(grid*grid,1),X2.reshape(grid*grid,1)))\n",
    "\n",
    "h=1\n",
    "N_q=3\n",
    "_Y = np.array([])\n",
    "for i in range(_X.shape[0]):\n",
    "    print(i)\n",
    "    x = _X[i:i+1]\n",
    "    y = rollout_utility_archive(x = x,\n",
    "                        bounds = bounds,\n",
    "                        func_policy=policy, \n",
    "                        depth_h = h, \n",
    "                        _queries = X, \n",
    "                        _values = Y, \n",
    "                        kernel=kernel,\n",
    "                        N_q=N_q)\n",
    "    _Y = np.concatenate([_Y,y[0]])\n",
    "_Y = _Y.T"
   ]
  },
  {
   "cell_type": "code",
   "execution_count": null,
   "metadata": {},
   "outputs": [],
   "source": [
    "plt.figure()    \n",
    "plt.contourf(X1, X2, _Y.reshape((grid,grid)),grid)\n",
    "plt.colorbar()\n",
    "plt.xlabel('X1')\n",
    "plt.ylabel('X2')\n",
    "plt.title(\"rollout_test5\")\n",
    "plt.show()"
   ]
  },
  {
   "cell_type": "code",
   "execution_count": 41,
   "metadata": {},
   "outputs": [
    {
     "ename": "NameError",
     "evalue": "name 'GPy' is not defined",
     "output_type": "error",
     "traceback": [
      "\u001b[0;31m---------------------------------------------------------------------------\u001b[0m",
      "\u001b[0;31mNameError\u001b[0m                                 Traceback (most recent call last)",
      "\u001b[0;32m<ipython-input-41-ada36cd954a0>\u001b[0m in \u001b[0;36m<module>\u001b[0;34m()\u001b[0m\n\u001b[1;32m      1\u001b[0m \u001b[0mobj_f\u001b[0m \u001b[0;34m=\u001b[0m \u001b[0mobjective_noisy\u001b[0m\u001b[0;34m.\u001b[0m\u001b[0mf\u001b[0m\u001b[0;34m\u001b[0m\u001b[0;34m\u001b[0m\u001b[0m\n\u001b[0;32m----> 2\u001b[0;31m \u001b[0mkernel\u001b[0m \u001b[0;34m=\u001b[0m \u001b[0mGPy\u001b[0m\u001b[0;34m.\u001b[0m\u001b[0mkern\u001b[0m\u001b[0;34m.\u001b[0m\u001b[0mRBF\u001b[0m\u001b[0;34m(\u001b[0m\u001b[0;36m2\u001b[0m\u001b[0;34m,\u001b[0m \u001b[0mARD\u001b[0m\u001b[0;34m=\u001b[0m\u001b[0;32mTrue\u001b[0m\u001b[0;34m)\u001b[0m\u001b[0;34m\u001b[0m\u001b[0;34m\u001b[0m\u001b[0m\n\u001b[0m\u001b[1;32m      3\u001b[0m \u001b[0mseed\u001b[0m \u001b[0;34m=\u001b[0m \u001b[0;36m5\u001b[0m\u001b[0;34m\u001b[0m\u001b[0;34m\u001b[0m\u001b[0m\n\u001b[1;32m      4\u001b[0m \u001b[0;34m\u001b[0m\u001b[0m\n\u001b[1;32m      5\u001b[0m \u001b[0mnp\u001b[0m\u001b[0;34m.\u001b[0m\u001b[0mrandom\u001b[0m\u001b[0;34m.\u001b[0m\u001b[0mseed\u001b[0m\u001b[0;34m(\u001b[0m\u001b[0mseed\u001b[0m\u001b[0;34m=\u001b[0m\u001b[0mseed\u001b[0m\u001b[0;34m)\u001b[0m\u001b[0;34m\u001b[0m\u001b[0;34m\u001b[0m\u001b[0m\n",
      "\u001b[0;31mNameError\u001b[0m: name 'GPy' is not defined"
     ]
    }
   ],
   "source": [
    "obj_f = objective_noisy.f\n",
    "kernel = gpflow.kernels.RBF(input_dim=2, ARD=True)\n",
    "seed = 5\n",
    "\n",
    "np.random.seed(seed=seed)\n",
    "\n",
    "h=1\n",
    "N_q=3\n",
    "N = 10\n",
    "\n",
    "queryro, valuero = bayesianOptimization(obj_f, \n",
    "                                        rollout_utility_archive,\n",
    "                                        bounds,\n",
    "                                        kernel,\n",
    "                                        depth_h = h,\n",
    "                                        N = N,\n",
    "                                        N_q = N_q\n",
    "                                       )"
   ]
  },
  {
   "cell_type": "code",
   "execution_count": 535,
   "metadata": {
    "scrolled": false
   },
   "outputs": [
    {
     "data": {
      "text/plain": [
       "array([[-2.28711344,  8.2008344 ],\n",
       "       [ 0.51113393,  7.52818701],\n",
       "       [-0.7744979 ,  3.70198062],\n",
       "       [ 0.48791096,  1.        ],\n",
       "       [ 0.56001377,  1.        ],\n",
       "       [ 0.76784172,  1.00000455],\n",
       "       [ 0.78768842,  1.        ],\n",
       "       [ 0.50566867,  1.0000017 ],\n",
       "       [ 0.44093177,  1.00000305],\n",
       "       [ 0.65111146,  1.        ],\n",
       "       [ 0.53410749,  1.00002271],\n",
       "       [ 0.05223905,  1.00000139],\n",
       "       [ 0.38305678,  1.        ],\n",
       "       [ 0.85237074,  1.        ],\n",
       "       [ 0.25434635,  1.00000005]])"
      ]
     },
     "execution_count": 535,
     "metadata": {},
     "output_type": "execute_result"
    }
   ],
   "source": [
    "queryro"
   ]
  },
  {
   "cell_type": "code",
   "execution_count": 536,
   "metadata": {
    "scrolled": false
   },
   "outputs": [
    {
     "data": {
      "text/plain": [
       "array([ 9.10278669, 24.69624954, 30.75292592, 37.59049269, 36.25988611,\n",
       "       32.71146105, 32.38728773, 37.39204724, 38.33448141, 34.85077746,\n",
       "       36.58628868, 44.82084457, 39.31245817, 31.23121489, 41.53108025])"
      ]
     },
     "execution_count": 536,
     "metadata": {},
     "output_type": "execute_result"
    }
   ],
   "source": [
    "valuero[:,0]"
   ]
  },
  {
   "cell_type": "code",
   "execution_count": 621,
   "metadata": {},
   "outputs": [
    {
     "data": {
      "text/plain": [
       "array([[-1.67010243, 13.19025229],\n",
       "       [-1.89921267, 13.86055271],\n",
       "       [-5.        ,  1.        ],\n",
       "       [-5.        ,  1.        ],\n",
       "       [-5.        ,  1.        ],\n",
       "       [-5.        ,  1.        ],\n",
       "       [-5.        ,  1.        ],\n",
       "       [-5.        ,  1.        ],\n",
       "       [-5.        ,  1.        ],\n",
       "       [-5.        ,  1.        ],\n",
       "       [-5.        ,  1.        ],\n",
       "       [-5.        ,  1.        ],\n",
       "       [-5.        ,  1.        ],\n",
       "       [-5.        ,  1.        ],\n",
       "       [-5.        ,  1.        ],\n",
       "       [-5.        ,  1.        ],\n",
       "       [-5.        ,  1.        ],\n",
       "       [-5.        ,  1.        ],\n",
       "       [-5.        ,  1.        ],\n",
       "       [-5.        ,  1.        ],\n",
       "       [-5.        ,  1.        ],\n",
       "       [-5.        ,  1.        ],\n",
       "       [-5.        ,  1.        ],\n",
       "       [-5.        ,  1.        ],\n",
       "       [-5.        ,  1.        ],\n",
       "       [-5.        ,  1.        ],\n",
       "       [-5.        ,  1.        ],\n",
       "       [-5.        ,  1.        ],\n",
       "       [-5.        ,  1.        ],\n",
       "       [-5.        ,  1.        ]])"
      ]
     },
     "execution_count": 621,
     "metadata": {},
     "output_type": "execute_result"
    }
   ],
   "source": [
    "queryei"
   ]
  },
  {
   "cell_type": "code",
   "execution_count": 622,
   "metadata": {},
   "outputs": [
    {
     "data": {
      "text/plain": [
       "array([ 27.6956348 ,  26.99112447, 275.76533723, 275.91262436,\n",
       "       275.663453  , 275.69521258, 275.77313657, 275.72138925,\n",
       "       275.63509978, 275.73388859, 275.71849335, 275.81472341,\n",
       "       275.58789739, 275.68435834, 275.86951535, 275.94010935,\n",
       "       275.60325829, 275.818861  , 275.65631546, 275.66869093,\n",
       "       275.66718833, 275.71212545, 275.85402023, 275.82561837,\n",
       "       275.76029067, 275.71804516, 275.75470513, 275.7437832 ,\n",
       "       275.83368158, 275.69121908])"
      ]
     },
     "execution_count": 622,
     "metadata": {},
     "output_type": "execute_result"
    }
   ],
   "source": [
    "valueei[:,0]"
   ]
  },
  {
   "cell_type": "code",
   "execution_count": 539,
   "metadata": {},
   "outputs": [
    {
     "data": {
      "text/plain": [
       "<matplotlib.collections.PathCollection at 0x7faf1a0c9e10>"
      ]
     },
     "execution_count": 539,
     "metadata": {},
     "output_type": "execute_result"
    },
    {
     "data": {
      "image/png": "[encoded data removed]",
      "text/plain": [
       "<Figure size 432x288 with 1 Axes>"
      ]
     },
     "metadata": {},
     "output_type": "display_data"
    }
   ],
   "source": [
    "plt.scatter(queryro[:,0],queryro[:,1])"
   ]
  },
  {
   "cell_type": "code",
   "execution_count": 623,
   "metadata": {},
   "outputs": [
    {
     "data": {
      "text/plain": [
       "<matplotlib.collections.PathCollection at 0x7faf1a5ea550>"
      ]
     },
     "execution_count": 623,
     "metadata": {},
     "output_type": "execute_result"
    },
    {
     "data": {
      "image/png": "[encoded data removed]",
      "text/plain": [
       "<Figure size 432x288 with 1 Axes>"
      ]
     },
     "metadata": {},
     "output_type": "display_data"
    }
   ],
   "source": [
    "plt.scatter(queryei[:,0],queryei[:,1])"
   ]
  },
  {
   "cell_type": "code",
   "execution_count": null,
   "metadata": {},
   "outputs": [],
   "source": []
  }
 ],
 "metadata": {
  "kernelspec": {
   "display_name": "Python 3",
   "language": "python",
   "name": "python3"
  },
  "language_info": {
   "codemirror_mode": {
    "name": "ipython",
    "version": 3
   },
   "file_extension": ".py",
   "mimetype": "text/x-python",
   "name": "python",
   "nbconvert_exporter": "python",
   "pygments_lexer": "ipython3",
   "version": "3.6.7"
  }
 },
 "nbformat": 4,
 "nbformat_minor": 2
}
