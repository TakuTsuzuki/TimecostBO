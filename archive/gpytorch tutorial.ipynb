{
 "cells": [
  {
   "cell_type": "code",
   "execution_count": 1,
   "metadata": {},
   "outputs": [],
   "source": [
    "import math\n",
    "import torch\n",
    "import gpytorch\n",
    "from matplotlib import pyplot as plt\n",
    "\n",
    "%matplotlib inline\n",
    "%load_ext autoreload\n",
    "%autoreload 2"
   ]
  },
  {
   "cell_type": "code",
   "execution_count": 27,
   "metadata": {},
   "outputs": [],
   "source": [
    "# Training data is 11 points in [0,1] inclusive regularly spaced\n",
    "train_x = torch.linspace(0, 1, 5)\n",
    "# True function is sin(2*pi*x) with Gaussian noise\n",
    "train_y = torch.sin(train_x * (2 * math.pi)) + torch.randn(train_x.size()) * 0.2"
   ]
  },
  {
   "cell_type": "code",
   "execution_count": 28,
   "metadata": {},
   "outputs": [
    {
     "data": {
      "text/plain": [
       "tensor([0.0000, 0.2500, 0.5000, 0.7500, 1.0000])"
      ]
     },
     "execution_count": 28,
     "metadata": {},
     "output_type": "execute_result"
    }
   ],
   "source": [
    "train_x"
   ]
  },
  {
   "cell_type": "code",
   "execution_count": 29,
   "metadata": {},
   "outputs": [
    {
     "data": {
      "text/plain": [
       "tensor([ 0.1792,  0.9998,  0.0938, -1.1426, -0.4768])"
      ]
     },
     "execution_count": 29,
     "metadata": {},
     "output_type": "execute_result"
    }
   ],
   "source": [
    "train_y"
   ]
  },
  {
   "cell_type": "code",
   "execution_count": 30,
   "metadata": {},
   "outputs": [],
   "source": [
    "class ExactGPModel(gpytorch.models.ExactGP):\n",
    "    def __init__(self, train_x, train_y, likelihood):\n",
    "        super(ExactGPModel, self).__init__(train_x, train_y, likelihood)\n",
    "        self.mean_module = gpytorch.means.ConstantMean()\n",
    "        self.covar_module = gpytorch.kernels.ScaleKernel(gpytorch.kernels.RBFKernel())\n",
    "\n",
    "    def forward(self, x):\n",
    "        mean_x = self.mean_module(x)\n",
    "        covar_x = self.covar_module(x)\n",
    "        return gpytorch.distributions.MultivariateNormal(mean_x, covar_x)\n",
    "\n",
    "# initialize likelihood and model\n",
    "likelihood = gpytorch.likelihoods.GaussianLikelihood()\n",
    "model = ExactGPModel(train_x, train_y, likelihood)"
   ]
  },
  {
   "cell_type": "markdown",
   "metadata": {},
   "source": [
    "## Training the model"
   ]
  },
  {
   "cell_type": "code",
   "execution_count": 31,
   "metadata": {},
   "outputs": [
    {
     "name": "stdout",
     "output_type": "stream",
     "text": [
      "Iter 1/50 - Loss: 1.245   lengthscale: 0.693   noise: 0.693\n",
      "Iter 2/50 - Loss: 1.225   lengthscale: 0.644   noise: 0.644\n",
      "Iter 3/50 - Loss: 1.208   lengthscale: 0.598   noise: 0.598\n",
      "Iter 4/50 - Loss: 1.190   lengthscale: 0.554   noise: 0.555\n",
      "Iter 5/50 - Loss: 1.171   lengthscale: 0.513   noise: 0.514\n",
      "Iter 6/50 - Loss: 1.153   lengthscale: 0.474   noise: 0.476\n",
      "Iter 7/50 - Loss: 1.136   lengthscale: 0.438   noise: 0.441\n",
      "Iter 8/50 - Loss: 1.118   lengthscale: 0.403   noise: 0.408\n",
      "Iter 9/50 - Loss: 1.100   lengthscale: 0.371   noise: 0.378\n",
      "Iter 10/50 - Loss: 1.083   lengthscale: 0.340   noise: 0.350\n",
      "Iter 11/50 - Loss: 1.067   lengthscale: 0.311   noise: 0.325\n",
      "Iter 12/50 - Loss: 1.052   lengthscale: 0.285   noise: 0.302\n",
      "Iter 13/50 - Loss: 1.040   lengthscale: 0.260   noise: 0.280\n",
      "Iter 14/50 - Loss: 1.033   lengthscale: 0.237   noise: 0.261\n",
      "Iter 15/50 - Loss: 1.030   lengthscale: 0.217   noise: 0.243\n",
      "Iter 16/50 - Loss: 1.031   lengthscale: 0.199   noise: 0.226\n",
      "Iter 17/50 - Loss: 1.035   lengthscale: 0.186   noise: 0.212\n",
      "Iter 18/50 - Loss: 1.039   lengthscale: 0.176   noise: 0.200\n",
      "Iter 19/50 - Loss: 1.043   lengthscale: 0.170   noise: 0.190\n",
      "Iter 20/50 - Loss: 1.044   lengthscale: 0.166   noise: 0.181\n",
      "Iter 21/50 - Loss: 1.044   lengthscale: 0.166   noise: 0.175\n",
      "Iter 22/50 - Loss: 1.040   lengthscale: 0.168   noise: 0.169\n",
      "Iter 23/50 - Loss: 1.036   lengthscale: 0.171   noise: 0.165\n",
      "Iter 24/50 - Loss: 1.030   lengthscale: 0.177   noise: 0.162\n",
      "Iter 25/50 - Loss: 1.023   lengthscale: 0.184   noise: 0.159\n",
      "Iter 26/50 - Loss: 1.018   lengthscale: 0.192   noise: 0.156\n",
      "Iter 27/50 - Loss: 1.013   lengthscale: 0.201   noise: 0.153\n",
      "Iter 28/50 - Loss: 1.010   lengthscale: 0.211   noise: 0.150\n",
      "Iter 29/50 - Loss: 1.009   lengthscale: 0.219   noise: 0.147\n",
      "Iter 30/50 - Loss: 1.008   lengthscale: 0.227   noise: 0.144\n",
      "Iter 31/50 - Loss: 1.008   lengthscale: 0.232   noise: 0.140\n",
      "Iter 32/50 - Loss: 1.008   lengthscale: 0.234   noise: 0.136\n",
      "Iter 33/50 - Loss: 1.007   lengthscale: 0.234   noise: 0.132\n",
      "Iter 34/50 - Loss: 1.005   lengthscale: 0.231   noise: 0.127\n",
      "Iter 35/50 - Loss: 1.004   lengthscale: 0.227   noise: 0.123\n",
      "Iter 36/50 - Loss: 1.002   lengthscale: 0.223   noise: 0.118\n",
      "Iter 37/50 - Loss: 1.002   lengthscale: 0.218   noise: 0.113\n",
      "Iter 38/50 - Loss: 1.001   lengthscale: 0.215   noise: 0.107\n",
      "Iter 39/50 - Loss: 1.000   lengthscale: 0.212   noise: 0.102\n",
      "Iter 40/50 - Loss: 0.998   lengthscale: 0.211   noise: 0.096\n",
      "Iter 41/50 - Loss: 0.996   lengthscale: 0.212   noise: 0.091\n",
      "Iter 42/50 - Loss: 0.994   lengthscale: 0.213   noise: 0.086\n",
      "Iter 43/50 - Loss: 0.992   lengthscale: 0.215   noise: 0.081\n",
      "Iter 44/50 - Loss: 0.990   lengthscale: 0.218   noise: 0.076\n",
      "Iter 45/50 - Loss: 0.989   lengthscale: 0.220   noise: 0.072\n",
      "Iter 46/50 - Loss: 0.988   lengthscale: 0.221   noise: 0.068\n",
      "Iter 47/50 - Loss: 0.987   lengthscale: 0.220   noise: 0.064\n",
      "Iter 48/50 - Loss: 0.986   lengthscale: 0.219   noise: 0.061\n",
      "Iter 49/50 - Loss: 0.985   lengthscale: 0.216   noise: 0.058\n",
      "Iter 50/50 - Loss: 0.984   lengthscale: 0.213   noise: 0.055\n"
     ]
    }
   ],
   "source": [
    "# Find optimal model hyperparameters\n",
    "model.train()\n",
    "likelihood.train()\n",
    "\n",
    "# Use the adam optimizer\n",
    "optimizer = torch.optim.Adam([\n",
    "    {'params': model.parameters()},  # Includes GaussianLikelihood parameters\n",
    "], lr=0.1)\n",
    "\n",
    "# \"Loss\" for GPs - the marginal log likelihood\n",
    "mll = gpytorch.mlls.ExactMarginalLogLikelihood(likelihood, model)\n",
    "\n",
    "training_iter = 50\n",
    "for i in range(training_iter):\n",
    "    # Zero gradients from previous iteration\n",
    "    optimizer.zero_grad()\n",
    "    # Output from model\n",
    "    output = model(train_x)\n",
    "    # Calc loss and backprop gradients\n",
    "    loss = -mll(output, train_y)\n",
    "    loss.backward()\n",
    "    print('Iter %d/%d - Loss: %.3f   lengthscale: %.3f   noise: %.3f' % (\n",
    "        i + 1, training_iter, loss.item(),\n",
    "        model.covar_module.base_kernel.lengthscale.item(),\n",
    "        model.likelihood.noise.item()\n",
    "    ))\n",
    "    optimizer.step()"
   ]
  },
  {
   "cell_type": "markdown",
   "metadata": {},
   "source": [
    "## Make predictions with the model"
   ]
  },
  {
   "cell_type": "code",
   "execution_count": 32,
   "metadata": {},
   "outputs": [],
   "source": [
    "# Get into evaluation (predictive posterior) mode\n",
    "model.eval()\n",
    "likelihood.eval()\n",
    "\n",
    "# Test points are regularly spaced along [0,1]\n",
    "# Make predictions by feeding model through likelihood\n",
    "with torch.no_grad(), gpytorch.settings.fast_pred_var():\n",
    "    test_x = torch.linspace(0, 1, 51)\n",
    "    observed_pred = likelihood(model(test_x))"
   ]
  },
  {
   "cell_type": "markdown",
   "metadata": {},
   "source": [
    "## Prot the model fit"
   ]
  },
  {
   "cell_type": "code",
   "execution_count": 33,
   "metadata": {},
   "outputs": [
    {
     "data": {
      "image/png": "[encoded data removed]",
      "text/plain": [
       "<Figure size 576x432 with 1 Axes>"
      ]
     },
     "metadata": {},
     "output_type": "display_data"
    }
   ],
   "source": [
    "with torch.no_grad():\n",
    "    # Initialize plot\n",
    "    f, ax = plt.subplots(1, 1, figsize=(8, 6))\n",
    "\n",
    "    # Get upper and lower confidence bounds\n",
    "    lower, upper = observed_pred.confidence_region()\n",
    "    # Plot training data as black stars\n",
    "    ax.plot(train_x.numpy(), train_y.numpy(), 'k*')\n",
    "    # Plot predictive means as blue line\n",
    "    ax.plot(test_x.numpy(), observed_pred.mean.numpy(), 'b')\n",
    "    # Shade between the lower and upper confidence bounds\n",
    "    ax.fill_between(test_x.numpy(), lower.numpy(), upper.numpy(), alpha=0.5)\n",
    "    ax.set_ylim([-3, 3])\n",
    "    ax.legend(['Observed Data', 'Mean', 'Confidence'])"
   ]
  },
  {
   "cell_type": "code",
   "execution_count": null,
   "metadata": {},
   "outputs": [],
   "source": []
  }
 ],
 "metadata": {
  "kernelspec": {
   "display_name": "Python 3",
   "language": "python",
   "name": "python3"
  },
  "language_info": {
   "codemirror_mode": {
    "name": "ipython",
    "version": 3
   },
   "file_extension": ".py",
   "mimetype": "text/x-python",
   "name": "python",
   "nbconvert_exporter": "python",
   "pygments_lexer": "ipython3",
   "version": "3.6.7"
  }
 },
 "nbformat": 4,
 "nbformat_minor": 2
}
